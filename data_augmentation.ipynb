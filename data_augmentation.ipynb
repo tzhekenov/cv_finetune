{
 "cells": [
  {
   "cell_type": "code",
   "execution_count": 1,
   "metadata": {},
   "outputs": [
    {
     "name": "stdout",
     "output_type": "stream",
     "text": [
      "Initialised with 1 image(s) found.\n",
      "Output directory set to /workspaces/finetune/combined_classes/3000000033/output."
     ]
    },
    {
     "name": "stderr",
     "output_type": "stream",
     "text": [
      "Processing <PIL.Image.Image image mode=RGB size=1600x1200 at 0x7A057D76F970>: 100%|██████████| 10/10 [00:00<00:00, 14.33 Samples/s]\n"
     ]
    },
    {
     "name": "stdout",
     "output_type": "stream",
     "text": [
      "Initialised with 2 image(s) found.\n",
      "Output directory set to /workspaces/finetune/combined_classes/2997330284/output."
     ]
    },
    {
     "name": "stderr",
     "output_type": "stream",
     "text": [
      "Processing <PIL.Image.Image image mode=RGB size=1600x1200 at 0x7A057D76ED40>: 100%|██████████| 10/10 [00:00<00:00, 17.66 Samples/s]\n",
      "Processing <PIL.Image.Image image mode=RGB size=1600x1200 at 0x7A057D76FCD0>: 100%|██████████| 10/10 [00:00<00:00, 14.18 Samples/s]\n"
     ]
    },
    {
     "name": "stdout",
     "output_type": "stream",
     "text": [
      "Initialised with 3 image(s) found.\n",
      "Output directory set to /workspaces/finetune/combined_classes/3001323629/output."
     ]
    },
    {
     "name": "stderr",
     "output_type": "stream",
     "text": [
      "Processing <PIL.Image.Image image mode=RGB size=4032x2268 at 0x7A057D76E710>: 100%|██████████| 10/10 [00:03<00:00,  3.07 Samples/s]\n",
      "Processing <PIL.Image.Image image mode=RGB size=4032x2268 at 0x7A057D79CC70>: 100%|██████████| 10/10 [00:03<00:00,  3.11 Samples/s]\n",
      "Processing <PIL.Image.Image image mode=RGB size=4032x2268 at 0x7A057D79D300>: 100%|██████████| 10/10 [00:03<00:00,  3.30 Samples/s]\n"
     ]
    },
    {
     "name": "stdout",
     "output_type": "stream",
     "text": [
      "Initialised with 1 image(s) found.\n",
      "Output directory set to /workspaces/finetune/combined_classes/2999488571/output."
     ]
    },
    {
     "name": "stderr",
     "output_type": "stream",
     "text": [
      "Processing <PIL.Image.Image image mode=RGB size=1600x1200 at 0x7A057D76E590>: 100%|██████████| 10/10 [00:00<00:00, 16.58 Samples/s]\n"
     ]
    },
    {
     "name": "stdout",
     "output_type": "stream",
     "text": [
      "Initialised with 2 image(s) found.\n",
      "Output directory set to /workspaces/finetune/combined_classes/3001571027/output."
     ]
    },
    {
     "name": "stderr",
     "output_type": "stream",
     "text": [
      "Processing <PIL.Image.Image image mode=RGB size=1600x1200 at 0x7A057D79F040>: 100%|██████████| 10/10 [00:00<00:00, 17.11 Samples/s]\n",
      "Processing <PIL.Image.Image image mode=RGB size=1600x1200 at 0x7A057D76EEF0>: 100%|██████████| 10/10 [00:00<00:00, 17.42 Samples/s]\n"
     ]
    },
    {
     "name": "stdout",
     "output_type": "stream",
     "text": [
      "Initialised with 2 image(s) found.\n",
      "Output directory set to /workspaces/finetune/combined_classes/3001795688/output."
     ]
    },
    {
     "name": "stderr",
     "output_type": "stream",
     "text": [
      "Processing <PIL.Image.Image image mode=RGB size=4032x2268 at 0x7A057D76FC70>: 100%|██████████| 10/10 [00:02<00:00,  3.50 Samples/s]\n",
      "Processing <PIL.Image.Image image mode=RGB size=4032x2268 at 0x7A057D79E9B0>: 100%|██████████| 10/10 [00:02<00:00,  4.16 Samples/s]\n"
     ]
    },
    {
     "name": "stdout",
     "output_type": "stream",
     "text": [
      "Initialised with 4 image(s) found.\n",
      "Output directory set to /workspaces/finetune/combined_classes/3001766651/output."
     ]
    },
    {
     "name": "stderr",
     "output_type": "stream",
     "text": [
      "Processing <PIL.Image.Image image mode=RGB size=4032x2268 at 0x7A057D79CAC0>: 100%|██████████| 10/10 [00:03<00:00,  3.08 Samples/s]\n",
      "Processing <PIL.Image.Image image mode=RGB size=4032x2268 at 0x7A057D79CF70>: 100%|██████████| 10/10 [00:02<00:00,  3.34 Samples/s]\n",
      "Processing <PIL.Image.Image image mode=RGB size=4032x2268 at 0x7A057D76ECB0>: 100%|██████████| 10/10 [00:02<00:00,  3.76 Samples/s]\n",
      "Processing <PIL.Image.Image image mode=RGB size=4032x2268 at 0x7A057D76EA70>: 100%|██████████| 10/10 [00:03<00:00,  3.20 Samples/s]\n"
     ]
    },
    {
     "name": "stdout",
     "output_type": "stream",
     "text": [
      "Initialised with 9 image(s) found.\n",
      "Output directory set to /workspaces/finetune/combined_classes/3001725035/output."
     ]
    },
    {
     "name": "stderr",
     "output_type": "stream",
     "text": [
      "Processing <PIL.Image.Image image mode=RGB size=4032x2268 at 0x7A057D79E7A0>: 100%|██████████| 10/10 [00:02<00:00,  3.44 Samples/s]\n",
      "Processing <PIL.Image.Image image mode=RGB size=4032x2268 at 0x7A057D79EFB0>: 100%|██████████| 10/10 [00:03<00:00,  2.97 Samples/s]\n",
      "Processing <PIL.Image.Image image mode=RGB size=4032x2268 at 0x7A057D79F490>: 100%|██████████| 10/10 [00:03<00:00,  2.97 Samples/s]\n",
      "Processing <PIL.Image.Image image mode=RGB size=4032x2268 at 0x7A057D79C250>: 100%|██████████| 10/10 [00:03<00:00,  3.00 Samples/s]\n",
      "Processing <PIL.Image.Image image mode=RGB size=4032x2268 at 0x7A057D79D690>: 100%|██████████| 10/10 [00:03<00:00,  3.28 Samples/s]\n",
      "Processing <PIL.Image.Image image mode=RGB size=4032x2268 at 0x7A057D76FFA0>: 100%|██████████| 10/10 [00:03<00:00,  3.08 Samples/s]\n",
      "Processing <PIL.Image.Image image mode=RGB size=4032x2268 at 0x7A057D76F6D0>: 100%|██████████| 10/10 [00:02<00:00,  3.59 Samples/s]\n",
      "Processing <PIL.Image.Image image mode=RGB size=4032x2268 at 0x7A057D76EB90>: 100%|██████████| 10/10 [00:02<00:00,  3.67 Samples/s]\n",
      "Processing <PIL.Image.Image image mode=RGB size=4032x2268 at 0x7A057D79F310>: 100%|██████████| 10/10 [00:03<00:00,  2.97 Samples/s]\n"
     ]
    },
    {
     "name": "stdout",
     "output_type": "stream",
     "text": [
      "Initialised with 4 image(s) found.\n",
      "Output directory set to /workspaces/finetune/combined_classes/3001301774/output."
     ]
    },
    {
     "name": "stderr",
     "output_type": "stream",
     "text": [
      "Processing <PIL.Image.Image image mode=RGB size=4032x2268 at 0x7A057D79FA30>: 100%|██████████| 10/10 [00:02<00:00,  3.50 Samples/s]\n",
      "Processing <PIL.Image.Image image mode=RGB size=4032x2268 at 0x7A057D76E8F0>: 100%|██████████| 10/10 [00:02<00:00,  3.39 Samples/s]\n",
      "Processing <PIL.Image.Image image mode=RGB size=4032x2268 at 0x7A057D79D600>: 100%|██████████| 10/10 [00:02<00:00,  3.98 Samples/s]\n",
      "Processing <PIL.Image.Image image mode=RGB size=4032x2268 at 0x7A057D79CA30>: 100%|██████████| 10/10 [00:02<00:00,  3.39 Samples/s]\n"
     ]
    },
    {
     "name": "stdout",
     "output_type": "stream",
     "text": [
      "Initialised with 1 image(s) found.\n",
      "Output directory set to /workspaces/finetune/combined_classes/3001674287/output."
     ]
    },
    {
     "name": "stderr",
     "output_type": "stream",
     "text": [
      "Processing <PIL.Image.Image image mode=RGB size=4032x2268 at 0x7A057D79FBB0>: 100%|██████████| 10/10 [00:03<00:00,  2.73 Samples/s]\n"
     ]
    },
    {
     "name": "stdout",
     "output_type": "stream",
     "text": [
      "Initialised with 2 image(s) found.\n",
      "Output directory set to /workspaces/finetune/combined_classes/2995872095/output."
     ]
    },
    {
     "name": "stderr",
     "output_type": "stream",
     "text": [
      "Processing <PIL.Image.Image image mode=RGB size=1600x1200 at 0x7A057D79C670>: 100%|██████████| 10/10 [00:00<00:00, 16.91 Samples/s]\n",
      "Processing <PIL.Image.Image image mode=RGB size=1600x1200 at 0x7A057D76F9A0>: 100%|██████████| 10/10 [00:00<00:00, 15.95 Samples/s]\n"
     ]
    },
    {
     "name": "stdout",
     "output_type": "stream",
     "text": [
      "Initialised with 46 image(s) found.\n",
      "Output directory set to /workspaces/finetune/combined_classes/3001757846/output."
     ]
    },
    {
     "name": "stderr",
     "output_type": "stream",
     "text": [
      "Processing <PIL.Image.Image image mode=RGB size=4032x2268 at 0x7A057D7CCB20>: 100%|██████████| 10/10 [00:02<00:00,  3.66 Samples/s]\n",
      "Processing <PIL.Image.Image image mode=RGB size=4032x2268 at 0x7A057D7CD030>: 100%|██████████| 10/10 [00:03<00:00,  3.12 Samples/s]\n",
      "Processing <PIL.Image.Image image mode=RGB size=4032x2268 at 0x7A057D7CC940>: 100%|██████████| 10/10 [00:02<00:00,  3.34 Samples/s]\n",
      "Processing <PIL.Image.Image image mode=RGB size=4032x2268 at 0x7A057D7CCB50>: 100%|██████████| 10/10 [00:02<00:00,  3.71 Samples/s]\n",
      "Processing <PIL.Image.Image image mode=RGB size=4032x2268 at 0x7A057D799000>: 100%|██████████| 10/10 [00:03<00:00,  3.30 Samples/s]\n",
      "Processing <PIL.Image.Image image mode=RGB size=4032x2268 at 0x7A057D79BDC0>: 100%|██████████| 10/10 [00:03<00:00,  3.20 Samples/s]\n",
      "Processing <PIL.Image.Image image mode=RGB size=4032x2268 at 0x7A057D79B5E0>: 100%|██████████| 10/10 [00:03<00:00,  3.06 Samples/s]\n",
      "Processing <PIL.Image.Image image mode=RGB size=4032x2268 at 0x7A057D7CC1F0>: 100%|██████████| 10/10 [00:02<00:00,  3.62 Samples/s]\n",
      "Processing <PIL.Image.Image image mode=RGB size=4032x2268 at 0x7A057D79D9F0>: 100%|██████████| 10/10 [00:02<00:00,  3.66 Samples/s]\n",
      "Processing <PIL.Image.Image image mode=RGB size=4032x2268 at 0x7A057D79B190>: 100%|██████████| 10/10 [00:03<00:00,  3.20 Samples/s]\n",
      "Processing <PIL.Image.Image image mode=RGB size=4032x2268 at 0x7A057D79B2E0>: 100%|██████████| 10/10 [00:02<00:00,  3.63 Samples/s]\n",
      "Processing <PIL.Image.Image image mode=RGB size=4032x2268 at 0x7A057D79B730>: 100%|██████████| 10/10 [00:02<00:00,  4.02 Samples/s]\n",
      "Processing <PIL.Image.Image image mode=RGB size=4032x2268 at 0x7A057D798460>: 100%|██████████| 10/10 [00:02<00:00,  3.73 Samples/s]\n",
      "Processing <PIL.Image.Image image mode=RGB size=4032x2268 at 0x7A057D7CD2D0>: 100%|██████████| 10/10 [00:02<00:00,  3.41 Samples/s]\n",
      "Processing <PIL.Image.Image image mode=RGB size=4032x2268 at 0x7A057D79B190>: 100%|██████████| 10/10 [00:03<00:00,  3.21 Samples/s]\n",
      "Processing <PIL.Image.Image image mode=RGB size=4032x2268 at 0x7A057D7995D0>: 100%|██████████| 10/10 [00:03<00:00,  2.91 Samples/s]\n",
      "Processing <PIL.Image.Image image mode=RGB size=4032x2268 at 0x7A057D7987F0>: 100%|██████████| 10/10 [00:02<00:00,  3.45 Samples/s]\n",
      "Processing <PIL.Image.Image image mode=RGB size=4032x2268 at 0x7A057D79CB50>: 100%|██████████| 10/10 [00:02<00:00,  3.75 Samples/s]\n",
      "Processing <PIL.Image.Image image mode=RGB size=4032x2268 at 0x7A057D7CF040>: 100%|██████████| 10/10 [00:03<00:00,  3.08 Samples/s]\n",
      "Processing <PIL.Image.Image image mode=RGB size=4032x2268 at 0x7A057D7975B0>: 100%|██████████| 10/10 [00:02<00:00,  3.39 Samples/s]\n",
      "Processing <PIL.Image.Image image mode=RGB size=4032x2268 at 0x7A057D79ABF0>: 100%|██████████| 10/10 [00:02<00:00,  3.49 Samples/s]\n",
      "Processing <PIL.Image.Image image mode=RGB size=4032x2268 at 0x7A057D7982B0>: 100%|██████████| 10/10 [00:02<00:00,  3.67 Samples/s]\n",
      "Processing <PIL.Image.Image image mode=RGB size=4032x2268 at 0x7A057D7CE2C0>: 100%|██████████| 10/10 [00:02<00:00,  4.14 Samples/s]\n",
      "Processing <PIL.Image.Image image mode=RGB size=4032x2268 at 0x7A057D79A3B0>: 100%|██████████| 10/10 [00:02<00:00,  3.45 Samples/s]\n",
      "Processing <PIL.Image.Image image mode=RGB size=4032x2268 at 0x7A057D799990>: 100%|██████████| 10/10 [00:02<00:00,  3.63 Samples/s]\n",
      "Processing <PIL.Image.Image image mode=RGB size=4032x2268 at 0x7A057D7F3610>: 100%|██████████| 10/10 [00:03<00:00,  3.28 Samples/s]\n",
      "Processing <PIL.Image.Image image mode=RGB size=4032x2268 at 0x7A057D799870>: 100%|██████████| 10/10 [00:03<00:00,  3.05 Samples/s]\n",
      "Processing <PIL.Image.Image image mode=RGB size=4032x2268 at 0x7A057D79A380>: 100%|██████████| 10/10 [00:03<00:00,  3.33 Samples/s]\n",
      "Processing <PIL.Image.Image image mode=RGB size=4032x2268 at 0x7A057D7F3760>: 100%|██████████| 10/10 [00:02<00:00,  3.61 Samples/s]\n",
      "Processing <PIL.Image.Image image mode=RGB size=4032x2268 at 0x7A057D797820>: 100%|██████████| 10/10 [00:03<00:00,  3.00 Samples/s]\n",
      "Processing <PIL.Image.Image image mode=RGB size=4032x2268 at 0x7A057D796C50>: 100%|██████████| 10/10 [00:03<00:00,  3.00 Samples/s]\n",
      "Processing <PIL.Image.Image image mode=RGB size=4032x2268 at 0x7A057D79B2E0>: 100%|██████████| 10/10 [00:02<00:00,  3.76 Samples/s]\n",
      "Processing <PIL.Image.Image image mode=RGB size=4032x2268 at 0x7A057D79CB50>: 100%|██████████| 10/10 [00:02<00:00,  4.38 Samples/s]\n",
      "Processing <PIL.Image.Image image mode=RGB size=4032x2268 at 0x7A057D7F6620>: 100%|██████████| 10/10 [00:02<00:00,  3.92 Samples/s]\n",
      "Processing <PIL.Image.Image image mode=RGB size=4032x2268 at 0x7A057D7F0B80>: 100%|██████████| 10/10 [00:03<00:00,  3.01 Samples/s]\n",
      "Processing <PIL.Image.Image image mode=RGB size=4032x2268 at 0x7A057D796FE0>: 100%|██████████| 10/10 [00:03<00:00,  3.06 Samples/s]\n",
      "Processing <PIL.Image.Image image mode=RGB size=4032x2268 at 0x7A057D79B430>: 100%|██████████| 10/10 [00:03<00:00,  3.23 Samples/s]\n",
      "Processing <PIL.Image.Image image mode=RGB size=4032x2268 at 0x7A057D7F2CB0>: 100%|██████████| 10/10 [00:03<00:00,  2.74 Samples/s]\n",
      "Processing <PIL.Image.Image image mode=RGB size=4032x2268 at 0x7A057D79C5B0>: 100%|██████████| 10/10 [00:03<00:00,  3.20 Samples/s]\n",
      "Processing <PIL.Image.Image image mode=RGB size=4032x2268 at 0x7A057D7CFB80>: 100%|██████████| 10/10 [00:02<00:00,  3.72 Samples/s]\n",
      "Processing <PIL.Image.Image image mode=RGB size=4032x2268 at 0x7A057D797EE0>: 100%|██████████| 10/10 [00:02<00:00,  3.43 Samples/s]\n",
      "Processing <PIL.Image.Image image mode=RGB size=4032x2268 at 0x7A057D7F4F10>: 100%|██████████| 10/10 [00:02<00:00,  3.53 Samples/s]\n",
      "Processing <PIL.Image.Image image mode=RGB size=4032x2268 at 0x7A057D796A10>: 100%|██████████| 10/10 [00:03<00:00,  2.89 Samples/s]\n",
      "Processing <PIL.Image.Image image mode=RGB size=4032x2268 at 0x7A057D799810>: 100%|██████████| 10/10 [00:02<00:00,  3.59 Samples/s]\n",
      "Processing <PIL.Image.Image image mode=RGB size=4032x2268 at 0x7A057D797FA0>: 100%|██████████| 10/10 [00:02<00:00,  3.75 Samples/s]\n",
      "Processing <PIL.Image.Image image mode=RGB size=4032x2268 at 0x7A057D7F2CE0>: 100%|██████████| 10/10 [00:02<00:00,  3.50 Samples/s]\n"
     ]
    },
    {
     "name": "stdout",
     "output_type": "stream",
     "text": [
      "Initialised with 9 image(s) found.\n",
      "Output directory set to /workspaces/finetune/combined_classes/3001529018/output."
     ]
    },
    {
     "name": "stderr",
     "output_type": "stream",
     "text": [
      "Processing <PIL.Image.Image image mode=RGB size=4032x2268 at 0x7A057D79A650>: 100%|██████████| 10/10 [00:03<00:00,  3.12 Samples/s]\n",
      "Processing <PIL.Image.Image image mode=RGB size=4032x2268 at 0x7A057D7F7640>: 100%|██████████| 10/10 [00:02<00:00,  3.60 Samples/s]\n",
      "Processing <PIL.Image.Image image mode=RGB size=4032x2268 at 0x7A057D7983D0>: 100%|██████████| 10/10 [00:03<00:00,  3.18 Samples/s]\n",
      "Processing <PIL.Image.Image image mode=RGB size=4032x2268 at 0x7A057D7F51B0>: 100%|██████████| 10/10 [00:02<00:00,  3.84 Samples/s]\n",
      "Processing <PIL.Image.Image image mode=RGB size=4032x2268 at 0x7A057D7F3A00>: 100%|██████████| 10/10 [00:03<00:00,  3.08 Samples/s]\n",
      "Processing <PIL.Image.Image image mode=RGB size=4032x2268 at 0x7A057D795330>: 100%|██████████| 10/10 [00:03<00:00,  2.91 Samples/s]\n",
      "Processing <PIL.Image.Image image mode=RGB size=4032x2268 at 0x7A057D799810>: 100%|██████████| 10/10 [00:02<00:00,  3.55 Samples/s]\n",
      "Processing <PIL.Image.Image image mode=RGB size=4032x2268 at 0x7A057D7983D0>: 100%|██████████| 10/10 [00:02<00:00,  3.66 Samples/s]\n",
      "Processing <PIL.Image.Image image mode=RGB size=4032x2268 at 0x7A057D7F67A0>: 100%|██████████| 10/10 [00:02<00:00,  3.50 Samples/s]\n"
     ]
    },
    {
     "name": "stdout",
     "output_type": "stream",
     "text": [
      "Initialised with 2 image(s) found.\n",
      "Output directory set to /workspaces/finetune/combined_classes/3001985576/output."
     ]
    },
    {
     "name": "stderr",
     "output_type": "stream",
     "text": [
      "Processing <PIL.Image.Image image mode=RGB size=1600x1200 at 0x7A057D79DE40>: 100%|██████████| 10/10 [00:00<00:00, 13.20 Samples/s]\n",
      "Processing <PIL.Image.Image image mode=RGB size=1600x1200 at 0x7A057D7968C0>: 100%|██████████| 10/10 [00:00<00:00, 16.89 Samples/s]\n"
     ]
    },
    {
     "name": "stdout",
     "output_type": "stream",
     "text": [
      "Initialised with 2 image(s) found.\n",
      "Output directory set to /workspaces/finetune/combined_classes/2996725589/output."
     ]
    },
    {
     "name": "stderr",
     "output_type": "stream",
     "text": [
      "Processing <PIL.Image.Image image mode=RGB size=1600x1200 at 0x7A057D79C3D0>: 100%|██████████| 10/10 [00:00<00:00, 16.04 Samples/s]\n",
      "Processing <PIL.Image.Image image mode=RGB size=1600x1200 at 0x7A057D79DFF0>: 100%|██████████| 10/10 [00:00<00:00, 17.14 Samples/s]\n"
     ]
    },
    {
     "name": "stdout",
     "output_type": "stream",
     "text": [
      "Initialised with 2 image(s) found.\n",
      "Output directory set to /workspaces/finetune/combined_classes/2999741660/output."
     ]
    },
    {
     "name": "stderr",
     "output_type": "stream",
     "text": [
      "Processing <PIL.Image.Image image mode=RGB size=1600x1200 at 0x7A057D79A980>: 100%|██████████| 10/10 [00:00<00:00, 16.68 Samples/s]\n",
      "Processing <PIL.Image.Image image mode=RGB size=1600x1200 at 0x7A057D7F3FD0>: 100%|██████████| 10/10 [00:00<00:00, 17.49 Samples/s]\n"
     ]
    },
    {
     "name": "stdout",
     "output_type": "stream",
     "text": [
      "Initialised with 3 image(s) found.\n",
      "Output directory set to /workspaces/finetune/combined_classes/2995131008/output."
     ]
    },
    {
     "name": "stderr",
     "output_type": "stream",
     "text": [
      "Processing <PIL.Image.Image image mode=RGB size=1600x1200 at 0x7A057D7CED70>: 100%|██████████| 10/10 [00:00<00:00, 15.52 Samples/s]\n",
      "Processing <PIL.Image.Image image mode=RGB size=1600x1200 at 0x7A059F5A3010>: 100%|██████████| 10/10 [00:00<00:00, 14.76 Samples/s]\n",
      "Processing <PIL.Image.Image image mode=RGB size=1600x1200 at 0x7A057D79A260>: 100%|██████████| 10/10 [00:00<00:00, 15.33 Samples/s]\n"
     ]
    },
    {
     "name": "stdout",
     "output_type": "stream",
     "text": [
      "Initialised with 10 image(s) found.\n",
      "Output directory set to /workspaces/finetune/combined_classes/3000109511/output."
     ]
    },
    {
     "name": "stderr",
     "output_type": "stream",
     "text": [
      "Processing <PIL.Image.Image image mode=RGB size=4032x2268 at 0x7A057D79C3D0>: 100%|██████████| 10/10 [00:02<00:00,  3.43 Samples/s]\n",
      "Processing <PIL.Image.Image image mode=RGB size=4032x2268 at 0x7A057D797940>: 100%|██████████| 10/10 [00:02<00:00,  3.42 Samples/s]\n",
      "Processing <PIL.Image.Image image mode=RGB size=4032x2268 at 0x7A057D7F5300>: 100%|██████████| 10/10 [00:02<00:00,  3.91 Samples/s]\n",
      "Processing <PIL.Image.Image image mode=RGB size=4032x2268 at 0x7A057D7F49A0>: 100%|██████████| 10/10 [00:02<00:00,  3.50 Samples/s]\n",
      "Processing <PIL.Image.Image image mode=RGB size=4032x2268 at 0x7A057D76E1D0>: 100%|██████████| 10/10 [00:03<00:00,  3.26 Samples/s]\n",
      "Processing <PIL.Image.Image image mode=RGB size=4032x2268 at 0x7A057D7F4340>: 100%|██████████| 10/10 [00:03<00:00,  2.76 Samples/s]\n",
      "Processing <PIL.Image.Image image mode=RGB size=4032x2268 at 0x7A057D7F4340>: 100%|██████████| 10/10 [00:03<00:00,  3.15 Samples/s]\n",
      "Processing <PIL.Image.Image image mode=RGB size=4032x2268 at 0x7A057D79A230>: 100%|██████████| 10/10 [00:02<00:00,  3.92 Samples/s]\n",
      "Processing <PIL.Image.Image image mode=RGB size=4032x2268 at 0x7A057D79A560>: 100%|██████████| 10/10 [00:02<00:00,  4.01 Samples/s]\n",
      "Processing <PIL.Image.Image image mode=RGB size=4032x2268 at 0x7A057D76FEB0>: 100%|██████████| 10/10 [00:02<00:00,  3.63 Samples/s]\n"
     ]
    },
    {
     "name": "stdout",
     "output_type": "stream",
     "text": [
      "Initialised with 3 image(s) found.\n",
      "Output directory set to /workspaces/finetune/combined_classes/3001578278/output."
     ]
    },
    {
     "name": "stderr",
     "output_type": "stream",
     "text": [
      "Processing <PIL.Image.Image image mode=RGB size=4032x2268 at 0x7A057D76E290>: 100%|██████████| 10/10 [00:02<00:00,  3.61 Samples/s]\n",
      "Processing <PIL.Image.Image image mode=RGB size=4032x2268 at 0x7A057C607130>: 100%|██████████| 10/10 [00:02<00:00,  3.48 Samples/s]\n",
      "Processing <PIL.Image.Image image mode=RGB size=4032x2268 at 0x7A057D7F7460>: 100%|██████████| 10/10 [00:03<00:00,  2.83 Samples/s]\n"
     ]
    },
    {
     "name": "stdout",
     "output_type": "stream",
     "text": [
      "Initialised with 2 image(s) found.\n",
      "Output directory set to /workspaces/finetune/combined_classes/2999741909/output."
     ]
    },
    {
     "name": "stderr",
     "output_type": "stream",
     "text": [
      "Processing <PIL.Image.Image image mode=RGB size=1600x1200 at 0x7A057D76EBC0>: 100%|██████████| 10/10 [00:00<00:00, 15.19 Samples/s]\n",
      "Processing <PIL.Image.Image image mode=RGB size=1600x1200 at 0x7A057D7CFA00>: 100%|██████████| 10/10 [00:00<00:00, 13.85 Samples/s]\n"
     ]
    },
    {
     "name": "stdout",
     "output_type": "stream",
     "text": [
      "Initialised with 3 image(s) found.\n",
      "Output directory set to /workspaces/finetune/combined_classes/3001752155/output."
     ]
    },
    {
     "name": "stderr",
     "output_type": "stream",
     "text": [
      "Processing <PIL.Image.Image image mode=RGB size=1600x1200 at 0x7A057D795600>: 100%|██████████| 10/10 [00:00<00:00, 15.14 Samples/s]\n",
      "Processing <PIL.Image.Image image mode=RGB size=1600x1200 at 0x7A057D76F010>: 100%|██████████| 10/10 [00:00<00:00, 16.08 Samples/s]\n",
      "Processing <PIL.Image.Image image mode=RGB size=1600x1200 at 0x7A057D7F3A30>: 100%|██████████| 10/10 [00:00<00:00, 14.84 Samples/s]\n"
     ]
    },
    {
     "name": "stdout",
     "output_type": "stream",
     "text": [
      "Initialised with 2 image(s) found.\n",
      "Output directory set to /workspaces/finetune/combined_classes/3001119737/output."
     ]
    },
    {
     "name": "stderr",
     "output_type": "stream",
     "text": [
      "Processing <PIL.Image.Image image mode=RGB size=1600x1200 at 0x7A059F5A3010>: 100%|██████████| 10/10 [00:00<00:00, 13.42 Samples/s]\n",
      "Processing <PIL.Image.Image image mode=RGB size=1600x1200 at 0x7A057D7973A0>: 100%|██████████| 10/10 [00:00<00:00, 17.30 Samples/s]\n"
     ]
    },
    {
     "name": "stdout",
     "output_type": "stream",
     "text": [
      "Initialised with 1 image(s) found.\n",
      "Output directory set to /workspaces/finetune/combined_classes/2995877720/output."
     ]
    },
    {
     "name": "stderr",
     "output_type": "stream",
     "text": [
      "Processing <PIL.Image.Image image mode=RGB size=4032x2268 at 0x7A057D7971F0>: 100%|██████████| 10/10 [00:02<00:00,  3.67 Samples/s]\n"
     ]
    },
    {
     "name": "stdout",
     "output_type": "stream",
     "text": [
      "Initialised with 2 image(s) found.\n",
      "Output directory set to /workspaces/finetune/combined_classes/2999575112/output."
     ]
    },
    {
     "name": "stderr",
     "output_type": "stream",
     "text": [
      "Processing <PIL.Image.Image image mode=RGB size=4032x2268 at 0x7A057D7F1CC0>: 100%|██████████| 10/10 [00:03<00:00,  3.06 Samples/s]\n",
      "Processing <PIL.Image.Image image mode=RGB size=4032x2268 at 0x7A057D76E3B0>: 100%|██████████| 10/10 [00:02<00:00,  3.40 Samples/s]\n"
     ]
    },
    {
     "name": "stdout",
     "output_type": "stream",
     "text": [
      "Initialised with 3 image(s) found.\n",
      "Output directory set to /workspaces/finetune/combined_classes/3000077810/output."
     ]
    },
    {
     "name": "stderr",
     "output_type": "stream",
     "text": [
      "Processing <PIL.Image.Image image mode=RGB size=1600x1200 at 0x7A057D76F9A0>: 100%|██████████| 10/10 [00:00<00:00, 16.68 Samples/s]\n",
      "Processing <PIL.Image.Image image mode=RGB size=1600x1200 at 0x7A057D76EE00>: 100%|██████████| 10/10 [00:00<00:00, 17.85 Samples/s]\n",
      "Processing <PIL.Image.Image image mode=RGB size=1600x1200 at 0x7A057D7F14E0>: 100%|██████████| 10/10 [00:00<00:00, 15.44 Samples/s]\n"
     ]
    },
    {
     "name": "stdout",
     "output_type": "stream",
     "text": [
      "Initialised with 1 image(s) found.\n",
      "Output directory set to /workspaces/finetune/combined_classes/3000848693/output."
     ]
    },
    {
     "name": "stderr",
     "output_type": "stream",
     "text": [
      "Processing <PIL.Image.Image image mode=RGB size=1600x1200 at 0x7A057D79F1C0>: 100%|██████████| 10/10 [00:00<00:00, 17.31 Samples/s]                 \n"
     ]
    },
    {
     "name": "stdout",
     "output_type": "stream",
     "text": [
      "Initialised with 1 image(s) found.\n",
      "Output directory set to /workspaces/finetune/combined_classes/2998773638/output."
     ]
    },
    {
     "name": "stderr",
     "output_type": "stream",
     "text": [
      "Processing <PIL.Image.Image image mode=RGB size=4032x2268 at 0x7A057D79BAF0>: 100%|██████████| 10/10 [00:03<00:00,  3.14 Samples/s]\n"
     ]
    },
    {
     "name": "stdout",
     "output_type": "stream",
     "text": [
      "Initialised with 6 image(s) found.\n",
      "Output directory set to /workspaces/finetune/combined_classes/3001688273/output."
     ]
    },
    {
     "name": "stderr",
     "output_type": "stream",
     "text": [
      "Processing <PIL.Image.Image image mode=RGB size=4032x2268 at 0x7A057D7F7520>: 100%|██████████| 10/10 [00:02<00:00,  3.56 Samples/s]\n",
      "Processing <PIL.Image.Image image mode=RGB size=4032x2268 at 0x7A057D7F6050>: 100%|██████████| 10/10 [00:02<00:00,  3.67 Samples/s]\n",
      "Processing <PIL.Image.Image image mode=RGB size=4032x2268 at 0x7A057D79E740>: 100%|██████████| 10/10 [00:02<00:00,  4.23 Samples/s]                 \n",
      "Processing <PIL.Image.Image image mode=RGB size=4032x2268 at 0x7A057D7F7F40>: 100%|██████████| 10/10 [00:03<00:00,  3.25 Samples/s]\n",
      "Processing <PIL.Image.Image image mode=RGB size=4032x2268 at 0x7A057D795BD0>: 100%|██████████| 10/10 [00:02<00:00,  3.37 Samples/s]\n",
      "Processing <PIL.Image.Image image mode=RGB size=4032x2268 at 0x7A057D79B100>: 100%|██████████| 10/10 [00:02<00:00,  3.93 Samples/s]\n"
     ]
    },
    {
     "name": "stdout",
     "output_type": "stream",
     "text": [
      "Initialised with 1 image(s) found.\n",
      "Output directory set to /workspaces/finetune/combined_classes/3000000018/output."
     ]
    },
    {
     "name": "stderr",
     "output_type": "stream",
     "text": [
      "Processing <PIL.Image.Image image mode=RGB size=1600x1200 at 0x7A057D795330>: 100%|██████████| 10/10 [00:00<00:00, 15.17 Samples/s]\n"
     ]
    },
    {
     "name": "stdout",
     "output_type": "stream",
     "text": [
      "Initialised with 2 image(s) found.\n",
      "Output directory set to /workspaces/finetune/combined_classes/3001607978/output."
     ]
    },
    {
     "name": "stderr",
     "output_type": "stream",
     "text": [
      "Processing <PIL.Image.Image image mode=RGB size=4032x2268 at 0x7A057D79B100>: 100%|██████████| 10/10 [00:02<00:00,  3.87 Samples/s]\n",
      "Processing <PIL.Image.Image image mode=RGB size=4032x2268 at 0x7A057D79F100>: 100%|██████████| 10/10 [00:02<00:00,  4.15 Samples/s]\n"
     ]
    },
    {
     "name": "stdout",
     "output_type": "stream",
     "text": [
      "Initialised with 2 image(s) found.\n",
      "Output directory set to /workspaces/finetune/combined_classes/3001854470/output."
     ]
    },
    {
     "name": "stderr",
     "output_type": "stream",
     "text": [
      "Processing <PIL.Image.Image image mode=RGB size=4032x2268 at 0x7A057D79C3D0>: 100%|██████████| 10/10 [00:03<00:00,  3.03 Samples/s]\n",
      "Processing <PIL.Image.Image image mode=RGB size=4032x2268 at 0x7A057D7F67A0>: 100%|██████████| 10/10 [00:02<00:00,  3.55 Samples/s]\n"
     ]
    },
    {
     "name": "stdout",
     "output_type": "stream",
     "text": [
      "Initialised with 2 image(s) found.\n",
      "Output directory set to /workspaces/finetune/combined_classes/2998537655/output."
     ]
    },
    {
     "name": "stderr",
     "output_type": "stream",
     "text": [
      "Processing <PIL.Image.Image image mode=RGB size=1600x1200 at 0x7A057D76E8F0>: 100%|██████████| 10/10 [00:00<00:00, 13.77 Samples/s]\n",
      "Processing <PIL.Image.Image image mode=RGB size=1600x1200 at 0x7A057D795330>: 100%|██████████| 10/10 [00:00<00:00, 16.29 Samples/s]\n"
     ]
    },
    {
     "name": "stdout",
     "output_type": "stream",
     "text": [
      "Initialised with 3 image(s) found.\n",
      "Output directory set to /workspaces/finetune/combined_classes/2999758853/output."
     ]
    },
    {
     "name": "stderr",
     "output_type": "stream",
     "text": [
      "Processing <PIL.Image.Image image mode=RGB size=4032x2268 at 0x7A057D7CECE0>: 100%|██████████| 10/10 [00:02<00:00,  3.47 Samples/s]                 \n",
      "Processing <PIL.Image.Image image mode=RGB size=4032x2268 at 0x7A057D76EBC0>: 100%|██████████| 10/10 [00:02<00:00,  3.62 Samples/s]\n",
      "Processing <PIL.Image.Image image mode=RGB size=4032x2268 at 0x7A057D79B340>: 100%|██████████| 10/10 [00:02<00:00,  3.53 Samples/s]                 \n"
     ]
    },
    {
     "name": "stdout",
     "output_type": "stream",
     "text": [
      "Initialised with 1 image(s) found.\n",
      "Output directory set to /workspaces/finetune/combined_classes/3001766633/output."
     ]
    },
    {
     "name": "stderr",
     "output_type": "stream",
     "text": [
      "Processing <PIL.Image.Image image mode=RGB size=4032x2268 at 0x7A057D7F7040>: 100%|██████████| 10/10 [00:02<00:00,  3.56 Samples/s]\n"
     ]
    },
    {
     "name": "stdout",
     "output_type": "stream",
     "text": [
      "Initialised with 2 image(s) found.\n",
      "Output directory set to /workspaces/finetune/combined_classes/2998761713/output."
     ]
    },
    {
     "name": "stderr",
     "output_type": "stream",
     "text": [
      "Processing <PIL.Image.Image image mode=RGB size=4032x2268 at 0x7A057D798400>: 100%|██████████| 10/10 [00:03<00:00,  2.90 Samples/s]\n",
      "Processing <PIL.Image.Image image mode=RGB size=4032x2268 at 0x7A057D7F7B50>: 100%|██████████| 10/10 [00:03<00:00,  3.17 Samples/s]\n"
     ]
    },
    {
     "name": "stdout",
     "output_type": "stream",
     "text": [
      "Initialised with 1 image(s) found.\n",
      "Output directory set to /workspaces/finetune/combined_classes/2998807121/output."
     ]
    },
    {
     "name": "stderr",
     "output_type": "stream",
     "text": [
      "Processing <PIL.Image.Image image mode=RGB size=1600x1200 at 0x7A057D7958D0>: 100%|██████████| 10/10 [00:00<00:00, 14.92 Samples/s]\n"
     ]
    },
    {
     "name": "stdout",
     "output_type": "stream",
     "text": [
      "Initialised with 1 image(s) found.\n",
      "Output directory set to /workspaces/finetune/combined_classes/2999867222/output."
     ]
    },
    {
     "name": "stderr",
     "output_type": "stream",
     "text": [
      "Processing <PIL.Image.Image image mode=RGB size=1600x1200 at 0x7A059F5A3010>: 100%|██████████| 10/10 [00:00<00:00, 16.12 Samples/s]\n"
     ]
    },
    {
     "name": "stdout",
     "output_type": "stream",
     "text": [
      "Initialised with 3 image(s) found.\n",
      "Output directory set to /workspaces/finetune/combined_classes/3001567553/output."
     ]
    },
    {
     "name": "stderr",
     "output_type": "stream",
     "text": [
      "Processing <PIL.Image.Image image mode=RGB size=4032x2268 at 0x7A057D76F520>: 100%|██████████| 10/10 [00:02<00:00,  3.36 Samples/s]\n",
      "Processing <PIL.Image.Image image mode=RGB size=4032x2268 at 0x7A057D79DE40>: 100%|██████████| 10/10 [00:02<00:00,  3.62 Samples/s]\n",
      "Processing <PIL.Image.Image image mode=RGB size=4032x2268 at 0x7A057C606530>: 100%|██████████| 10/10 [00:02<00:00,  3.36 Samples/s]\n"
     ]
    },
    {
     "name": "stdout",
     "output_type": "stream",
     "text": [
      "Initialised with 1 image(s) found.\n",
      "Output directory set to /workspaces/finetune/combined_classes/2996003612/output."
     ]
    },
    {
     "name": "stderr",
     "output_type": "stream",
     "text": [
      "Processing <PIL.Image.Image image mode=RGB size=1600x1200 at 0x7A057D79A680>: 100%|██████████| 10/10 [00:00<00:00, 14.54 Samples/s]\n"
     ]
    },
    {
     "name": "stdout",
     "output_type": "stream",
     "text": [
      "Initialised with 1 image(s) found.\n",
      "Output directory set to /workspaces/finetune/combined_classes/3000000030/output."
     ]
    },
    {
     "name": "stderr",
     "output_type": "stream",
     "text": [
      "Processing <PIL.Image.Image image mode=RGB size=1600x1200 at 0x7A059029D8D0>: 100%|██████████| 10/10 [00:00<00:00, 17.08 Samples/s]\n"
     ]
    },
    {
     "name": "stdout",
     "output_type": "stream",
     "text": [
      "Initialised with 2 image(s) found.\n",
      "Output directory set to /workspaces/finetune/combined_classes/2999741645/output."
     ]
    },
    {
     "name": "stderr",
     "output_type": "stream",
     "text": [
      "Processing <PIL.Image.Image image mode=RGB size=1600x1200 at 0x7A057D7F7F40>: 100%|██████████| 10/10 [00:00<00:00, 15.20 Samples/s]\n",
      "Processing <PIL.Image.Image image mode=RGB size=1600x1200 at 0x7A057D76E7D0>: 100%|██████████| 10/10 [00:00<00:00, 13.45 Samples/s]\n"
     ]
    },
    {
     "name": "stdout",
     "output_type": "stream",
     "text": [
      "Initialised with 1 image(s) found.\n",
      "Output directory set to /workspaces/finetune/combined_classes/2998793279/output."
     ]
    },
    {
     "name": "stderr",
     "output_type": "stream",
     "text": [
      "Processing <PIL.Image.Image image mode=RGB size=1600x1200 at 0x7A057D79E380>: 100%|██████████| 10/10 [00:00<00:00, 14.13 Samples/s]\n"
     ]
    },
    {
     "name": "stdout",
     "output_type": "stream",
     "text": [
      "Initialised with 1 image(s) found.\n",
      "Output directory set to /workspaces/finetune/combined_classes/2998769084/output."
     ]
    },
    {
     "name": "stderr",
     "output_type": "stream",
     "text": [
      "Processing <PIL.Image.Image image mode=RGB size=1600x1200 at 0x7A057D76E980>: 100%|██████████| 10/10 [00:00<00:00, 14.68 Samples/s]\n"
     ]
    },
    {
     "name": "stdout",
     "output_type": "stream",
     "text": [
      "Initialised with 1 image(s) found.\n",
      "Output directory set to /workspaces/finetune/combined_classes/3001766654/output."
     ]
    },
    {
     "name": "stderr",
     "output_type": "stream",
     "text": [
      "Processing <PIL.Image.Image image mode=RGB size=4032x2268 at 0x7A057D7F79A0>: 100%|██████████| 10/10 [00:02<00:00,  4.33 Samples/s]\n"
     ]
    },
    {
     "name": "stdout",
     "output_type": "stream",
     "text": [
      "Initialised with 3 image(s) found.\n",
      "Output directory set to /workspaces/finetune/combined_classes/2999666903/output."
     ]
    },
    {
     "name": "stderr",
     "output_type": "stream",
     "text": [
      "Processing <PIL.Image.Image image mode=RGB size=4032x2268 at 0x7A057D7F70A0>: 100%|██████████| 10/10 [00:03<00:00,  3.08 Samples/s]\n",
      "Processing <PIL.Image.Image image mode=RGB size=4032x2268 at 0x7A057D7F11B0>: 100%|██████████| 10/10 [00:02<00:00,  3.36 Samples/s]\n",
      "Processing <PIL.Image.Image image mode=RGB size=4032x2268 at 0x7A057D7CFC70>: 100%|██████████| 10/10 [00:03<00:00,  3.13 Samples/s]\n"
     ]
    },
    {
     "name": "stdout",
     "output_type": "stream",
     "text": [
      "Initialised with 1 image(s) found.\n",
      "Output directory set to /workspaces/finetune/combined_classes/2999754140/output."
     ]
    },
    {
     "name": "stderr",
     "output_type": "stream",
     "text": [
      "Processing <PIL.Image.Image image mode=RGB size=4032x2268 at 0x7A057D7F6320>: 100%|██████████| 10/10 [00:03<00:00,  3.15 Samples/s]\n"
     ]
    },
    {
     "name": "stdout",
     "output_type": "stream",
     "text": [
      "Initialised with 1 image(s) found.\n",
      "Output directory set to /workspaces/finetune/combined_classes/2995877717/output."
     ]
    },
    {
     "name": "stderr",
     "output_type": "stream",
     "text": [
      "Processing <PIL.Image.Image image mode=RGB size=4032x2268 at 0x7A057C6070A0>: 100%|██████████| 10/10 [00:02<00:00,  3.50 Samples/s]\n"
     ]
    },
    {
     "name": "stdout",
     "output_type": "stream",
     "text": [
      "Initialised with 1 image(s) found.\n",
      "Output directory set to /workspaces/finetune/combined_classes/2999895431/output."
     ]
    },
    {
     "name": "stderr",
     "output_type": "stream",
     "text": [
      "Processing <PIL.Image.Image image mode=RGB size=1600x1200 at 0x7A057D7F51B0>: 100%|██████████| 10/10 [00:00<00:00, 16.51 Samples/s]\n"
     ]
    },
    {
     "name": "stdout",
     "output_type": "stream",
     "text": [
      "Initialised with 3 image(s) found.\n",
      "Output directory set to /workspaces/finetune/combined_classes/3000077900/output."
     ]
    },
    {
     "name": "stderr",
     "output_type": "stream",
     "text": [
      "Processing <PIL.Image.Image image mode=RGB size=1600x1200 at 0x7A057D795CC0>: 100%|██████████| 10/10 [00:00<00:00, 15.48 Samples/s]\n",
      "Processing <PIL.Image.Image image mode=RGB size=1600x1200 at 0x7A057D76FFA0>: 100%|██████████| 10/10 [00:00<00:00, 17.93 Samples/s]\n",
      "Processing <PIL.Image.Image image mode=RGB size=1600x1200 at 0x7A057D7F3D00>: 100%|██████████| 10/10 [00:00<00:00, 16.47 Samples/s]\n"
     ]
    },
    {
     "name": "stdout",
     "output_type": "stream",
     "text": [
      "Initialised with 1 image(s) found.\n",
      "Output directory set to /workspaces/finetune/combined_classes/2999556083/output."
     ]
    },
    {
     "name": "stderr",
     "output_type": "stream",
     "text": [
      "Processing <PIL.Image.Image image mode=RGB size=1600x1200 at 0x7A057D7F66E0>: 100%|██████████| 10/10 [00:00<00:00, 14.92 Samples/s]\n"
     ]
    },
    {
     "name": "stdout",
     "output_type": "stream",
     "text": [
      "Initialised with 3 image(s) found.\n",
      "Output directory set to /workspaces/finetune/combined_classes/2996598152/output."
     ]
    },
    {
     "name": "stderr",
     "output_type": "stream",
     "text": [
      "Processing <PIL.Image.Image image mode=RGB size=4032x2268 at 0x7A057D7F6470>: 100%|██████████| 10/10 [00:03<00:00,  3.19 Samples/s]\n",
      "Processing <PIL.Image.Image image mode=RGB size=4032x2268 at 0x7A057D76FB80>: 100%|██████████| 10/10 [00:03<00:00,  3.24 Samples/s]\n",
      "Processing <PIL.Image.Image image mode=RGB size=4032x2268 at 0x7A057D7F0FA0>: 100%|██████████| 10/10 [00:02<00:00,  4.11 Samples/s]                 \n"
     ]
    },
    {
     "name": "stdout",
     "output_type": "stream",
     "text": [
      "Initialised with 1 image(s) found.\n",
      "Output directory set to /workspaces/finetune/combined_classes/2996669948/output."
     ]
    },
    {
     "name": "stderr",
     "output_type": "stream",
     "text": [
      "Processing <PIL.Image.Image image mode=RGB size=4032x2268 at 0x7A057D7F36A0>: 100%|██████████| 10/10 [00:03<00:00,  2.63 Samples/s]\n"
     ]
    },
    {
     "name": "stdout",
     "output_type": "stream",
     "text": [
      "Initialised with 3 image(s) found.\n",
      "Output directory set to /workspaces/finetune/combined_classes/3001563860/output."
     ]
    },
    {
     "name": "stderr",
     "output_type": "stream",
     "text": [
      "Processing <PIL.Image.Image image mode=RGB size=4032x2268 at 0x7A057D7F5A80>: 100%|██████████| 10/10 [00:03<00:00,  3.13 Samples/s]\n",
      "Processing <PIL.Image.Image image mode=RGB size=4032x2268 at 0x7A057D79A560>: 100%|██████████| 10/10 [00:02<00:00,  4.04 Samples/s]\n",
      "Processing <PIL.Image.Image image mode=RGB size=4032x2268 at 0x7A057D76F1C0>: 100%|██████████| 10/10 [00:03<00:00,  3.21 Samples/s]\n"
     ]
    },
    {
     "name": "stdout",
     "output_type": "stream",
     "text": [
      "Initialised with 14 image(s) found.\n",
      "Output directory set to /workspaces/finetune/combined_classes/2999741873/output."
     ]
    },
    {
     "name": "stderr",
     "output_type": "stream",
     "text": [
      "Processing <PIL.Image.Image image mode=RGB size=4032x2268 at 0x7A057D7F6EF0>: 100%|██████████| 10/10 [00:02<00:00,  4.20 Samples/s]\n",
      "Processing <PIL.Image.Image image mode=RGB size=4032x2268 at 0x7A057D76FB80>: 100%|██████████| 10/10 [00:03<00:00,  3.29 Samples/s]\n",
      "Processing <PIL.Image.Image image mode=RGB size=4032x2268 at 0x7A057D7F5570>: 100%|██████████| 10/10 [00:02<00:00,  3.63 Samples/s]\n",
      "Processing <PIL.Image.Image image mode=RGB size=4032x2268 at 0x7A057D76F2B0>: 100%|██████████| 10/10 [00:03<00:00,  3.04 Samples/s]\n",
      "Processing <PIL.Image.Image image mode=RGB size=4032x2268 at 0x7A057D7F71C0>: 100%|██████████| 10/10 [00:02<00:00,  3.47 Samples/s]\n",
      "Processing <PIL.JpegImagePlugin.JpegImageFile image mode=RGB size=4032x2268 at 0x7A057D7F7040>: 100%|██████████| 10/10 [00:02<00:00,  3.61 Samples/s]\n",
      "Processing <PIL.Image.Image image mode=RGB size=4032x2268 at 0x7A057D7F2020>: 100%|██████████| 10/10 [00:02<00:00,  3.34 Samples/s]\n",
      "Processing <PIL.Image.Image image mode=RGB size=4032x2268 at 0x7A057D7F4070>: 100%|██████████| 10/10 [00:02<00:00,  3.42 Samples/s]\n",
      "Processing <PIL.Image.Image image mode=RGB size=4032x2268 at 0x7A057D7F0070>: 100%|██████████| 10/10 [00:02<00:00,  4.10 Samples/s]\n",
      "Processing <PIL.Image.Image image mode=RGB size=4032x2268 at 0x7A057D7F5CC0>: 100%|██████████| 10/10 [00:03<00:00,  2.74 Samples/s]\n",
      "Processing <PIL.Image.Image image mode=RGB size=4032x2268 at 0x7A057C604CA0>: 100%|██████████| 10/10 [00:02<00:00,  3.38 Samples/s]\n",
      "Processing <PIL.Image.Image image mode=RGB size=4032x2268 at 0x7A057D7F4340>: 100%|██████████| 10/10 [00:03<00:00,  3.21 Samples/s]\n",
      "Processing <PIL.Image.Image image mode=RGB size=4032x2268 at 0x7A057D76EC20>: 100%|██████████| 10/10 [00:03<00:00,  3.20 Samples/s]\n",
      "Processing <PIL.Image.Image image mode=RGB size=4032x2268 at 0x7A057C604EB0>: 100%|██████████| 10/10 [00:03<00:00,  3.24 Samples/s]\n"
     ]
    },
    {
     "name": "stdout",
     "output_type": "stream",
     "text": [
      "Initialised with 1 image(s) found.\n",
      "Output directory set to /workspaces/finetune/combined_classes/2999741633/output."
     ]
    },
    {
     "name": "stderr",
     "output_type": "stream",
     "text": [
      "Processing <PIL.Image.Image image mode=RGB size=1600x1200 at 0x7A057D7F6CB0>: 100%|██████████| 10/10 [00:00<00:00, 14.34 Samples/s]\n"
     ]
    },
    {
     "name": "stdout",
     "output_type": "stream",
     "text": [
      "Initialised with 7 image(s) found.\n",
      "Output directory set to /workspaces/finetune/combined_classes/2999885183/output."
     ]
    },
    {
     "name": "stderr",
     "output_type": "stream",
     "text": [
      "Processing <PIL.Image.Image image mode=RGB size=4032x2268 at 0x7A057D7F4070>: 100%|██████████| 10/10 [00:03<00:00,  3.12 Samples/s]\n",
      "Processing <PIL.Image.Image image mode=RGB size=4032x2268 at 0x7A057D7F4430>: 100%|██████████| 10/10 [00:02<00:00,  3.51 Samples/s]\n",
      "Processing <PIL.Image.Image image mode=RGB size=4032x2268 at 0x7A057D7CC250>: 100%|██████████| 10/10 [00:02<00:00,  3.53 Samples/s]\n",
      "Processing <PIL.Image.Image image mode=RGB size=4032x2268 at 0x7A057D799810>: 100%|██████████| 10/10 [00:02<00:00,  3.47 Samples/s]\n",
      "Processing <PIL.Image.Image image mode=RGB size=4032x2268 at 0x7A057D76E8F0>: 100%|██████████| 10/10 [00:03<00:00,  2.80 Samples/s]\n",
      "Processing <PIL.Image.Image image mode=RGB size=4032x2268 at 0x7A057D7F1B10>: 100%|██████████| 10/10 [00:03<00:00,  3.33 Samples/s]\n",
      "Processing <PIL.Image.Image image mode=RGB size=4032x2268 at 0x7A059029E3B0>: 100%|██████████| 10/10 [00:02<00:00,  3.43 Samples/s]\n"
     ]
    },
    {
     "name": "stdout",
     "output_type": "stream",
     "text": [
      "Initialised with 1 image(s) found.\n",
      "Output directory set to /workspaces/finetune/combined_classes/3001674254/output."
     ]
    },
    {
     "name": "stderr",
     "output_type": "stream",
     "text": [
      "Processing <PIL.Image.Image image mode=RGB size=4032x2268 at 0x7A057D7F31F0>: 100%|██████████| 10/10 [00:03<00:00,  3.18 Samples/s]\n"
     ]
    },
    {
     "name": "stdout",
     "output_type": "stream",
     "text": [
      "Initialised with 7 image(s) found.\n",
      "Output directory set to /workspaces/finetune/combined_classes/2999267279/output."
     ]
    },
    {
     "name": "stderr",
     "output_type": "stream",
     "text": [
      "Processing <PIL.Image.Image image mode=RGB size=4032x2268 at 0x7A057D76EBC0>: 100%|██████████| 10/10 [00:03<00:00,  2.93 Samples/s]\n",
      "Processing <PIL.Image.Image image mode=RGB size=4032x2268 at 0x7A057D7F7A30>: 100%|██████████| 10/10 [00:02<00:00,  3.53 Samples/s]\n",
      "Processing <PIL.Image.Image image mode=RGB size=4032x2268 at 0x7A057D76EEF0>: 100%|██████████| 10/10 [00:02<00:00,  3.43 Samples/s]\n",
      "Processing <PIL.Image.Image image mode=RGB size=4032x2268 at 0x7A057D76F850>: 100%|██████████| 10/10 [00:03<00:00,  3.31 Samples/s]\n",
      "Processing <PIL.Image.Image image mode=RGB size=4032x2268 at 0x7A057D797820>: 100%|██████████| 10/10 [00:02<00:00,  3.40 Samples/s]\n",
      "Processing <PIL.Image.Image image mode=RGB size=4032x2268 at 0x7A057D7CF6D0>: 100%|██████████| 10/10 [00:02<00:00,  3.62 Samples/s]\n",
      "Processing <PIL.Image.Image image mode=RGB size=4032x2268 at 0x7A057C604460>: 100%|██████████| 10/10 [00:02<00:00,  3.43 Samples/s]\n"
     ]
    },
    {
     "name": "stdout",
     "output_type": "stream",
     "text": [
      "Initialised with 3 image(s) found.\n",
      "Output directory set to /workspaces/finetune/combined_classes/3001873457/output."
     ]
    },
    {
     "name": "stderr",
     "output_type": "stream",
     "text": [
      "Processing <PIL.Image.Image image mode=RGB size=1600x1200 at 0x7A057D79AEF0>: 100%|██████████| 10/10 [00:00<00:00, 13.90 Samples/s]\n",
      "Processing <PIL.Image.Image image mode=RGB size=1600x1200 at 0x7A057D796680>: 100%|██████████| 10/10 [00:00<00:00, 14.75 Samples/s]\n",
      "Processing <PIL.Image.Image image mode=RGB size=1600x1200 at 0x7A057D795BD0>: 100%|██████████| 10/10 [00:00<00:00, 14.36 Samples/s]\n"
     ]
    },
    {
     "name": "stdout",
     "output_type": "stream",
     "text": [
      "Initialised with 1 image(s) found.\n",
      "Output directory set to /workspaces/finetune/combined_classes/2998769081/output."
     ]
    },
    {
     "name": "stderr",
     "output_type": "stream",
     "text": [
      "Processing <PIL.Image.Image image mode=RGB size=1600x1200 at 0x7A057D79D9F0>: 100%|██████████| 10/10 [00:00<00:00, 17.42 Samples/s]\n"
     ]
    },
    {
     "name": "stdout",
     "output_type": "stream",
     "text": [
      "Initialised with 4 image(s) found.\n",
      "Output directory set to /workspaces/finetune/combined_classes/2995839926/output."
     ]
    },
    {
     "name": "stderr",
     "output_type": "stream",
     "text": [
      "Processing <PIL.Image.Image image mode=RGB size=4032x2268 at 0x7A057D76EFE0>: 100%|██████████| 10/10 [00:03<00:00,  3.23 Samples/s]\n",
      "Processing <PIL.Image.Image image mode=RGB size=4032x2268 at 0x7A057D76DF30>: 100%|██████████| 10/10 [00:02<00:00,  3.55 Samples/s]\n",
      "Processing <PIL.Image.Image image mode=RGB size=4032x2268 at 0x7A057D7F6A10>: 100%|██████████| 10/10 [00:02<00:00,  3.52 Samples/s]\n",
      "Processing <PIL.Image.Image image mode=RGB size=4032x2268 at 0x7A057D76E1D0>: 100%|██████████| 10/10 [00:02<00:00,  3.57 Samples/s]\n"
     ]
    },
    {
     "name": "stdout",
     "output_type": "stream",
     "text": [
      "Initialised with 1 image(s) found.\n",
      "Output directory set to /workspaces/finetune/combined_classes/3001985573/output."
     ]
    },
    {
     "name": "stderr",
     "output_type": "stream",
     "text": [
      "Processing <PIL.Image.Image image mode=RGB size=1600x1200 at 0x7A057D79A5F0>: 100%|██████████| 10/10 [00:00<00:00, 15.86 Samples/s]\n"
     ]
    },
    {
     "name": "stdout",
     "output_type": "stream",
     "text": [
      "Initialised with 3 image(s) found.\n",
      "Output directory set to /workspaces/finetune/combined_classes/3001586729/output."
     ]
    },
    {
     "name": "stderr",
     "output_type": "stream",
     "text": [
      "Processing <PIL.Image.Image image mode=RGB size=1600x1200 at 0x7A057D79F100>: 100%|██████████| 10/10 [00:00<00:00, 19.79 Samples/s]\n",
      "Processing <PIL.Image.Image image mode=RGB size=1600x1200 at 0x7A057D76E8F0>: 100%|██████████| 10/10 [00:00<00:00, 17.80 Samples/s]\n",
      "Processing <PIL.Image.Image image mode=RGB size=1600x1200 at 0x7A057D79B100>: 100%|██████████| 10/10 [00:00<00:00, 18.43 Samples/s]\n"
     ]
    },
    {
     "name": "stdout",
     "output_type": "stream",
     "text": [
      "Initialised with 1 image(s) found.\n",
      "Output directory set to /workspaces/finetune/combined_classes/2999914511/output."
     ]
    },
    {
     "name": "stderr",
     "output_type": "stream",
     "text": [
      "Processing <PIL.Image.Image image mode=RGB size=4032x2268 at 0x7A057D7F67A0>: 100%|██████████| 10/10 [00:03<00:00,  3.25 Samples/s]\n"
     ]
    },
    {
     "name": "stdout",
     "output_type": "stream",
     "text": [
      "Initialised with 2 image(s) found.\n",
      "Output directory set to /workspaces/finetune/combined_classes/2999578595/output."
     ]
    },
    {
     "name": "stderr",
     "output_type": "stream",
     "text": [
      "Processing <PIL.Image.Image image mode=RGB size=4032x2268 at 0x7A057D7F7B80>: 100%|██████████| 10/10 [00:03<00:00,  3.26 Samples/s]\n",
      "Processing <PIL.Image.Image image mode=RGB size=4032x2268 at 0x7A057D76EE00>: 100%|██████████| 10/10 [00:03<00:00,  3.09 Samples/s]\n"
     ]
    },
    {
     "name": "stdout",
     "output_type": "stream",
     "text": [
      "Initialised with 2 image(s) found.\n",
      "Output directory set to /workspaces/finetune/combined_classes/3000025490/output."
     ]
    },
    {
     "name": "stderr",
     "output_type": "stream",
     "text": [
      "Processing <PIL.Image.Image image mode=RGB size=1600x1200 at 0x7A057D794DF0>: 100%|██████████| 10/10 [00:00<00:00, 15.09 Samples/s]\n",
      "Processing <PIL.Image.Image image mode=RGB size=1600x1200 at 0x7A057D7F3910>: 100%|██████████| 10/10 [00:00<00:00, 16.58 Samples/s]\n"
     ]
    },
    {
     "name": "stdout",
     "output_type": "stream",
     "text": [
      "Initialised with 1 image(s) found.\n",
      "Output directory set to /workspaces/finetune/combined_classes/3000000012/output."
     ]
    },
    {
     "name": "stderr",
     "output_type": "stream",
     "text": [
      "Processing <PIL.Image.Image image mode=RGB size=1600x1200 at 0x7A057D79F1C0>: 100%|██████████| 10/10 [00:00<00:00, 17.70 Samples/s]\n"
     ]
    },
    {
     "name": "stdout",
     "output_type": "stream",
     "text": [
      "Initialised with 7 image(s) found.\n",
      "Output directory set to /workspaces/finetune/combined_classes/3001753967/output."
     ]
    },
    {
     "name": "stderr",
     "output_type": "stream",
     "text": [
      "Processing <PIL.Image.Image image mode=RGB size=4032x2268 at 0x7A057D79E380>: 100%|██████████| 10/10 [00:03<00:00,  3.14 Samples/s]\n",
      "Processing <PIL.Image.Image image mode=RGB size=4032x2268 at 0x7A057D76EEF0>: 100%|██████████| 10/10 [00:02<00:00,  3.57 Samples/s]\n",
      "Processing <PIL.Image.Image image mode=RGB size=4032x2268 at 0x7A057D7F73A0>: 100%|██████████| 10/10 [00:03<00:00,  3.17 Samples/s]\n",
      "Processing <PIL.Image.Image image mode=RGB size=4032x2268 at 0x7A057D7F4490>: 100%|██████████| 10/10 [00:02<00:00,  3.59 Samples/s]\n",
      "Processing <PIL.Image.Image image mode=RGB size=4032x2268 at 0x7A057D7F7A30>: 100%|██████████| 10/10 [00:03<00:00,  2.89 Samples/s]\n",
      "Processing <PIL.Image.Image image mode=RGB size=4032x2268 at 0x7A057D7F6290>: 100%|██████████| 10/10 [00:03<00:00,  2.98 Samples/s]\n",
      "Processing <PIL.Image.Image image mode=RGB size=4032x2268 at 0x7A057D7F2D40>: 100%|██████████| 10/10 [00:03<00:00,  3.29 Samples/s]\n"
     ]
    },
    {
     "name": "stdout",
     "output_type": "stream",
     "text": [
      "Initialised with 1 image(s) found.\n",
      "Output directory set to /workspaces/finetune/combined_classes/3001985582/output."
     ]
    },
    {
     "name": "stderr",
     "output_type": "stream",
     "text": [
      "Processing <PIL.Image.Image image mode=RGB size=1600x1200 at 0x7A057D79D870>: 100%|██████████| 10/10 [00:00<00:00, 13.20 Samples/s]\n"
     ]
    },
    {
     "name": "stdout",
     "output_type": "stream",
     "text": [
      "Initialised with 1 image(s) found.\n",
      "Output directory set to /workspaces/finetune/combined_classes/3000000027/output."
     ]
    },
    {
     "name": "stderr",
     "output_type": "stream",
     "text": [
      "Processing <PIL.Image.Image image mode=RGB size=1600x1200 at 0x7A057D7F3E50>: 100%|██████████| 10/10 [00:00<00:00, 19.63 Samples/s]\n"
     ]
    },
    {
     "name": "stdout",
     "output_type": "stream",
     "text": [
      "Initialised with 10 image(s) found.\n",
      "Output directory set to /workspaces/finetune/combined_classes/3001522400/output."
     ]
    },
    {
     "name": "stderr",
     "output_type": "stream",
     "text": [
      "Processing <PIL.Image.Image image mode=RGB size=4032x2268 at 0x7A057D76EBF0>: 100%|██████████| 10/10 [00:02<00:00,  3.49 Samples/s]\n",
      "Processing <PIL.Image.Image image mode=RGB size=4032x2268 at 0x7A057D7F4220>: 100%|██████████| 10/10 [00:03<00:00,  3.27 Samples/s]\n",
      "Processing <PIL.Image.Image image mode=RGB size=4032x2268 at 0x7A057D7F1CC0>: 100%|██████████| 10/10 [00:02<00:00,  3.60 Samples/s]\n",
      "Processing <PIL.Image.Image image mode=RGB size=4032x2268 at 0x7A057D79A260>: 100%|██████████| 10/10 [00:02<00:00,  3.46 Samples/s]\n",
      "Processing <PIL.Image.Image image mode=RGB size=4032x2268 at 0x7A057D7F14E0>: 100%|██████████| 10/10 [00:02<00:00,  3.43 Samples/s]\n",
      "Processing <PIL.Image.Image image mode=RGB size=4032x2268 at 0x7A057D7F7580>: 100%|██████████| 10/10 [00:03<00:00,  2.82 Samples/s]\n",
      "Processing <PIL.Image.Image image mode=RGB size=4032x2268 at 0x7A057D7F3EB0>: 100%|██████████| 10/10 [00:03<00:00,  3.29 Samples/s]                 \n",
      "Processing <PIL.Image.Image image mode=RGB size=4032x2268 at 0x7A057D7F2290>: 100%|██████████| 10/10 [00:02<00:00,  3.34 Samples/s]\n",
      "Processing <PIL.Image.Image image mode=RGB size=4032x2268 at 0x7A057C607190>: 100%|██████████| 10/10 [00:03<00:00,  3.14 Samples/s]\n",
      "Processing <PIL.Image.Image image mode=RGB size=4032x2268 at 0x7A057D76F520>: 100%|██████████| 10/10 [00:02<00:00,  3.35 Samples/s]\n"
     ]
    },
    {
     "name": "stdout",
     "output_type": "stream",
     "text": [
      "Initialised with 3 image(s) found.\n",
      "Output directory set to /workspaces/finetune/combined_classes/3001750604/output."
     ]
    },
    {
     "name": "stderr",
     "output_type": "stream",
     "text": [
      "Processing <PIL.Image.Image image mode=RGB size=4032x2268 at 0x7A057D79BD60>: 100%|██████████| 10/10 [00:03<00:00,  3.30 Samples/s]\n",
      "Processing <PIL.Image.Image image mode=RGB size=4032x2268 at 0x7A057D7F7400>: 100%|██████████| 10/10 [00:02<00:00,  3.76 Samples/s]\n",
      "Processing <PIL.Image.Image image mode=RGB size=4032x2268 at 0x7A057D79A320>: 100%|██████████| 10/10 [00:03<00:00,  2.85 Samples/s]\n"
     ]
    },
    {
     "name": "stdout",
     "output_type": "stream",
     "text": [
      "Initialised with 2 image(s) found.\n",
      "Output directory set to /workspaces/finetune/combined_classes/2999556200/output."
     ]
    },
    {
     "name": "stderr",
     "output_type": "stream",
     "text": [
      "Processing <PIL.Image.Image image mode=RGB size=1600x1200 at 0x7A057D797FA0>: 100%|██████████| 10/10 [00:00<00:00, 14.42 Samples/s]\n",
      "Processing <PIL.Image.Image image mode=RGB size=1600x1200 at 0x7A057D7F7010>: 100%|██████████| 10/10 [00:00<00:00, 13.87 Samples/s]\n"
     ]
    },
    {
     "name": "stdout",
     "output_type": "stream",
     "text": [
      "Initialised with 7 image(s) found.\n",
      "Output directory set to /workspaces/finetune/combined_classes/2994926933/output."
     ]
    },
    {
     "name": "stderr",
     "output_type": "stream",
     "text": [
      "Processing <PIL.Image.Image image mode=RGB size=4032x2268 at 0x7A057D7F77C0>: 100%|██████████| 10/10 [00:02<00:00,  3.65 Samples/s]\n",
      "Processing <PIL.Image.Image image mode=RGB size=4032x2268 at 0x7A059F5A3010>: 100%|██████████| 10/10 [00:02<00:00,  3.52 Samples/s]\n",
      "Processing <PIL.Image.Image image mode=RGB size=4032x2268 at 0x7A057D79B2E0>: 100%|██████████| 10/10 [00:02<00:00,  3.69 Samples/s]\n",
      "Processing <PIL.Image.Image image mode=RGB size=4032x2268 at 0x7A057D7958D0>: 100%|██████████| 10/10 [00:03<00:00,  3.22 Samples/s]\n",
      "Processing <PIL.Image.Image image mode=RGB size=4032x2268 at 0x7A057D7CEB60>: 100%|██████████| 10/10 [00:02<00:00,  3.42 Samples/s]\n",
      "Processing <PIL.Image.Image image mode=RGB size=4032x2268 at 0x7A057D76FDF0>: 100%|██████████| 10/10 [00:03<00:00,  3.14 Samples/s]\n",
      "Processing <PIL.Image.Image image mode=RGB size=4032x2268 at 0x7A057D79A560>: 100%|██████████| 10/10 [00:03<00:00,  3.15 Samples/s]\n"
     ]
    },
    {
     "name": "stdout",
     "output_type": "stream",
     "text": [
      "Initialised with 3 image(s) found.\n",
      "Output directory set to /workspaces/finetune/combined_classes/3001374308/output."
     ]
    },
    {
     "name": "stderr",
     "output_type": "stream",
     "text": [
      "Processing <PIL.Image.Image image mode=RGB size=4032x2268 at 0x7A057D7F4070>: 100%|██████████| 10/10 [00:03<00:00,  3.18 Samples/s]\n",
      "Processing <PIL.Image.Image image mode=RGB size=4032x2268 at 0x7A057D799810>: 100%|██████████| 10/10 [00:02<00:00,  3.63 Samples/s]\n",
      "Processing <PIL.Image.Image image mode=RGB size=4032x2268 at 0x7A057D76F850>: 100%|██████████| 10/10 [00:03<00:00,  3.05 Samples/s]\n"
     ]
    },
    {
     "name": "stdout",
     "output_type": "stream",
     "text": [
      "Initialised with 3 image(s) found.\n",
      "Output directory set to /workspaces/finetune/combined_classes/2999737007/output."
     ]
    },
    {
     "name": "stderr",
     "output_type": "stream",
     "text": [
      "Processing <PIL.Image.Image image mode=RGB size=4032x2268 at 0x7A057D79AEC0>: 100%|██████████| 10/10 [00:02<00:00,  3.82 Samples/s]\n",
      "Processing <PIL.Image.Image image mode=RGB size=4032x2268 at 0x7A057D7F0FA0>: 100%|██████████| 10/10 [00:02<00:00,  3.45 Samples/s]\n",
      "Processing <PIL.Image.Image image mode=RGB size=4032x2268 at 0x7A057D7944C0>: 100%|██████████| 10/10 [00:02<00:00,  3.36 Samples/s]\n"
     ]
    },
    {
     "name": "stdout",
     "output_type": "stream",
     "text": [
      "Initialised with 5 image(s) found.\n",
      "Output directory set to /workspaces/finetune/combined_classes/2999749007/output."
     ]
    },
    {
     "name": "stderr",
     "output_type": "stream",
     "text": [
      "Processing <PIL.Image.Image image mode=RGB size=4032x2268 at 0x7A057D76F3D0>: 100%|██████████| 10/10 [00:03<00:00,  3.02 Samples/s]\n",
      "Processing <PIL.Image.Image image mode=RGB size=4032x2268 at 0x7A057D797FA0>: 100%|██████████| 10/10 [00:03<00:00,  3.27 Samples/s]\n",
      "Processing <PIL.Image.Image image mode=RGB size=4032x2268 at 0x7A057D79C3D0>: 100%|██████████| 10/10 [00:03<00:00,  3.02 Samples/s]\n",
      "Processing <PIL.Image.Image image mode=RGB size=4032x2268 at 0x7A057D76F2E0>: 100%|██████████| 10/10 [00:03<00:00,  3.32 Samples/s]\n",
      "Processing <PIL.Image.Image image mode=RGB size=4032x2268 at 0x7A057D7F21A0>: 100%|██████████| 10/10 [00:02<00:00,  3.52 Samples/s]\n"
     ]
    },
    {
     "name": "stdout",
     "output_type": "stream",
     "text": [
      "Initialised with 1 image(s) found.\n",
      "Output directory set to /workspaces/finetune/combined_classes/3001732979/output."
     ]
    },
    {
     "name": "stderr",
     "output_type": "stream",
     "text": [
      "Processing <PIL.Image.Image image mode=RGB size=4032x2268 at 0x7A057D7F7BB0>: 100%|██████████| 10/10 [00:03<00:00,  3.30 Samples/s]\n"
     ]
    },
    {
     "name": "stdout",
     "output_type": "stream",
     "text": [
      "Initialised with 1 image(s) found.\n",
      "Output directory set to /workspaces/finetune/combined_classes/3000044777/output."
     ]
    },
    {
     "name": "stderr",
     "output_type": "stream",
     "text": [
      "Processing <PIL.Image.Image image mode=RGB size=1600x1200 at 0x7A057D7F1C00>: 100%|██████████| 10/10 [00:00<00:00, 14.53 Samples/s]\n"
     ]
    },
    {
     "name": "stdout",
     "output_type": "stream",
     "text": [
      "Initialised with 4 image(s) found.\n",
      "Output directory set to /workspaces/finetune/combined_classes/3000044846/output."
     ]
    },
    {
     "name": "stderr",
     "output_type": "stream",
     "text": [
      "Processing <PIL.Image.Image image mode=RGB size=4032x2268 at 0x7A057D7F7CD0>: 100%|██████████| 10/10 [00:03<00:00,  3.05 Samples/s]\n",
      "Processing <PIL.Image.Image image mode=RGB size=4032x2268 at 0x7A057D7F7160>: 100%|██████████| 10/10 [00:02<00:00,  3.50 Samples/s]\n",
      "Processing <PIL.Image.Image image mode=RGB size=4032x2268 at 0x7A057D7983D0>: 100%|██████████| 10/10 [00:02<00:00,  3.68 Samples/s]\n",
      "Processing <PIL.Image.Image image mode=RGB size=4032x2268 at 0x7A057D7F0760>: 100%|██████████| 10/10 [00:03<00:00,  3.17 Samples/s]\n"
     ]
    },
    {
     "name": "stdout",
     "output_type": "stream",
     "text": [
      "Initialised with 1 image(s) found.\n",
      "Output directory set to /workspaces/finetune/combined_classes/2998793249/output."
     ]
    },
    {
     "name": "stderr",
     "output_type": "stream",
     "text": [
      "Processing <PIL.Image.Image image mode=RGB size=1600x1200 at 0x7A057C606830>: 100%|██████████| 10/10 [00:00<00:00, 15.34 Samples/s]\n"
     ]
    },
    {
     "name": "stdout",
     "output_type": "stream",
     "text": [
      "Initialised with 4 image(s) found.\n",
      "Output directory set to /workspaces/finetune/combined_classes/2999489942/output."
     ]
    },
    {
     "name": "stderr",
     "output_type": "stream",
     "text": [
      "Processing <PIL.Image.Image image mode=RGB size=4032x2268 at 0x7A057D7F1C00>: 100%|██████████| 10/10 [00:02<00:00,  3.97 Samples/s]\n",
      "Processing <PIL.Image.Image image mode=RGB size=4032x2268 at 0x7A057D79B430>: 100%|██████████| 10/10 [00:02<00:00,  3.39 Samples/s]\n",
      "Processing <PIL.Image.Image image mode=RGB size=4032x2268 at 0x7A057D7F78E0>: 100%|██████████| 10/10 [00:02<00:00,  3.96 Samples/s]\n",
      "Processing <PIL.Image.Image image mode=RGB size=4032x2268 at 0x7A057D7F7580>: 100%|██████████| 10/10 [00:02<00:00,  3.51 Samples/s]\n"
     ]
    },
    {
     "name": "stdout",
     "output_type": "stream",
     "text": [
      "Initialised with 1 image(s) found.\n",
      "Output directory set to /workspaces/finetune/combined_classes/2999267324/output."
     ]
    },
    {
     "name": "stderr",
     "output_type": "stream",
     "text": [
      "Processing <PIL.Image.Image image mode=RGB size=1600x1200 at 0x7A057D798400>: 100%|██████████| 10/10 [00:00<00:00, 16.69 Samples/s]\n"
     ]
    },
    {
     "name": "stdout",
     "output_type": "stream",
     "text": [
      "Initialised with 2 image(s) found.\n",
      "Output directory set to /workspaces/finetune/combined_classes/2998604240/output."
     ]
    },
    {
     "name": "stderr",
     "output_type": "stream",
     "text": [
      "Processing <PIL.Image.Image image mode=RGB size=4032x2268 at 0x7A057D794AC0>: 100%|██████████| 10/10 [00:02<00:00,  3.88 Samples/s]                 \n",
      "Processing <PIL.Image.Image image mode=RGB size=4032x2268 at 0x7A057D7F13F0>: 100%|██████████| 10/10 [00:03<00:00,  3.25 Samples/s]\n"
     ]
    },
    {
     "name": "stdout",
     "output_type": "stream",
     "text": [
      "Initialised with 3 image(s) found.\n",
      "Output directory set to /workspaces/finetune/combined_classes/3000077888/output."
     ]
    },
    {
     "name": "stderr",
     "output_type": "stream",
     "text": [
      "Processing <PIL.Image.Image image mode=RGB size=1600x1200 at 0x7A057D7F5660>: 100%|██████████| 10/10 [00:00<00:00, 18.07 Samples/s]\n",
      "Processing <PIL.Image.Image image mode=RGB size=1600x1200 at 0x7A057D798340>: 100%|██████████| 10/10 [00:00<00:00, 14.34 Samples/s]\n",
      "Processing <PIL.Image.Image image mode=RGB size=1600x1200 at 0x7A057D7F7FA0>: 100%|██████████| 10/10 [00:00<00:00, 15.49 Samples/s]\n"
     ]
    },
    {
     "name": "stdout",
     "output_type": "stream",
     "text": [
      "Initialised with 1 image(s) found.\n",
      "Output directory set to /workspaces/finetune/combined_classes/2995870754/output."
     ]
    },
    {
     "name": "stderr",
     "output_type": "stream",
     "text": [
      "Processing <PIL.Image.Image image mode=RGB size=1600x1200 at 0x7A057D7958D0>: 100%|██████████| 10/10 [00:00<00:00, 17.79 Samples/s]\n"
     ]
    },
    {
     "name": "stdout",
     "output_type": "stream",
     "text": [
      "Initialised with 1 image(s) found.\n",
      "Output directory set to /workspaces/finetune/combined_classes/3001985579/output."
     ]
    },
    {
     "name": "stderr",
     "output_type": "stream",
     "text": [
      "Processing <PIL.Image.Image image mode=RGB size=1600x1200 at 0x7A057D79D9F0>: 100%|██████████| 10/10 [00:00<00:00, 16.75 Samples/s]\n"
     ]
    },
    {
     "name": "stdout",
     "output_type": "stream",
     "text": [
      "Initialised with 2 image(s) found.\n",
      "Output directory set to /workspaces/finetune/combined_classes/2997653114/output."
     ]
    },
    {
     "name": "stderr",
     "output_type": "stream",
     "text": [
      "Processing <PIL.Image.Image image mode=RGB size=4032x2268 at 0x7A057D7F6A10>: 100%|██████████| 10/10 [00:03<00:00,  2.66 Samples/s]\n",
      "Processing <PIL.Image.Image image mode=RGB size=4032x2268 at 0x7A057D79F760>: 100%|██████████| 10/10 [00:02<00:00,  3.36 Samples/s]\n"
     ]
    },
    {
     "name": "stdout",
     "output_type": "stream",
     "text": [
      "Initialised with 2 image(s) found.\n",
      "Output directory set to /workspaces/finetune/combined_classes/3001985585/output."
     ]
    },
    {
     "name": "stderr",
     "output_type": "stream",
     "text": [
      "Processing <PIL.Image.Image image mode=RGB size=1600x1200 at 0x7A057D7F13F0>: 100%|██████████| 10/10 [00:00<00:00, 17.47 Samples/s]\n",
      "Processing <PIL.Image.Image image mode=RGB size=1600x1200 at 0x7A057D79B970>: 100%|██████████| 10/10 [00:00<00:00, 13.83 Samples/s]\n"
     ]
    },
    {
     "name": "stdout",
     "output_type": "stream",
     "text": [
      "Initialised with 2 image(s) found.\n",
      "Output directory set to /workspaces/finetune/combined_classes/3001578146/output."
     ]
    },
    {
     "name": "stderr",
     "output_type": "stream",
     "text": [
      "Processing <PIL.Image.Image image mode=RGB size=4032x2268 at 0x7A057D7F7BB0>: 100%|██████████| 10/10 [00:03<00:00,  3.11 Samples/s]\n",
      "Processing <PIL.Image.Image image mode=RGB size=4032x2268 at 0x7A057D79CB50>: 100%|██████████| 10/10 [00:02<00:00,  3.52 Samples/s]\n"
     ]
    },
    {
     "name": "stdout",
     "output_type": "stream",
     "text": [
      "Initialised with 2 image(s) found.\n",
      "Output directory set to /workspaces/finetune/combined_classes/2999741657/output."
     ]
    },
    {
     "name": "stderr",
     "output_type": "stream",
     "text": [
      "Processing <PIL.Image.Image image mode=RGB size=1600x1200 at 0x7A057D7F11B0>: 100%|██████████| 10/10 [00:00<00:00, 15.35 Samples/s]\n",
      "Processing <PIL.Image.Image image mode=RGB size=1600x1200 at 0x7A057D797820>: 100%|██████████| 10/10 [00:00<00:00, 15.58 Samples/s]\n"
     ]
    },
    {
     "name": "stdout",
     "output_type": "stream",
     "text": [
      "Initialised with 3 image(s) found.\n",
      "Output directory set to /workspaces/finetune/combined_classes/3001716932/output."
     ]
    },
    {
     "name": "stderr",
     "output_type": "stream",
     "text": [
      "Processing <PIL.Image.Image image mode=RGB size=4032x2268 at 0x7A057D796110>: 100%|██████████| 10/10 [00:03<00:00,  3.21 Samples/s]\n",
      "Processing <PIL.Image.Image image mode=RGB size=4032x2268 at 0x7A057D7F6A40>: 100%|██████████| 10/10 [00:02<00:00,  3.58 Samples/s]\n",
      "Processing <PIL.Image.Image image mode=RGB size=4032x2268 at 0x7A057D7F0070>: 100%|██████████| 10/10 [00:03<00:00,  3.03 Samples/s]\n"
     ]
    },
    {
     "name": "stdout",
     "output_type": "stream",
     "text": [
      "Initialised with 6 image(s) found.\n",
      "Output directory set to /workspaces/finetune/combined_classes/2996981930/output."
     ]
    },
    {
     "name": "stderr",
     "output_type": "stream",
     "text": [
      "Processing <PIL.Image.Image image mode=RGB size=4032x2268 at 0x7A057D7F79A0>: 100%|██████████| 10/10 [00:03<00:00,  2.71 Samples/s]\n",
      "Processing <PIL.Image.Image image mode=RGB size=4032x2268 at 0x7A057D7F3F70>: 100%|██████████| 10/10 [00:02<00:00,  4.36 Samples/s]\n",
      "Processing <PIL.Image.Image image mode=RGB size=4032x2268 at 0x7A057D79B850>: 100%|██████████| 10/10 [00:02<00:00,  3.39 Samples/s]\n",
      "Processing <PIL.Image.Image image mode=RGB size=4032x2268 at 0x7A057D794DF0>: 100%|██████████| 10/10 [00:03<00:00,  3.30 Samples/s]\n",
      "Processing <PIL.Image.Image image mode=RGB size=4032x2268 at 0x7A057D7F7EB0>: 100%|██████████| 10/10 [00:02<00:00,  3.66 Samples/s]                 \n",
      "Processing <PIL.Image.Image image mode=RGB size=4032x2268 at 0x7A057D7F7C40>: 100%|██████████| 10/10 [00:02<00:00,  3.61 Samples/s]\n"
     ]
    },
    {
     "name": "stdout",
     "output_type": "stream",
     "text": [
      "Initialised with 2 image(s) found.\n",
      "Output directory set to /workspaces/finetune/combined_classes/2999103161/output."
     ]
    },
    {
     "name": "stderr",
     "output_type": "stream",
     "text": [
      "Processing <PIL.Image.Image image mode=RGB size=1600x1200 at 0x7A057D7CF100>: 100%|██████████| 10/10 [00:00<00:00, 15.81 Samples/s]\n",
      "Processing <PIL.Image.Image image mode=RGB size=1600x1200 at 0x7A057D7983D0>: 100%|██████████| 10/10 [00:00<00:00, 15.01 Samples/s]\n"
     ]
    },
    {
     "name": "stdout",
     "output_type": "stream",
     "text": [
      "Initialised with 1 image(s) found.\n",
      "Output directory set to /workspaces/finetune/combined_classes/2995212257/output."
     ]
    },
    {
     "name": "stderr",
     "output_type": "stream",
     "text": [
      "Processing <PIL.Image.Image image mode=RGB size=4032x2268 at 0x7A057D76F820>: 100%|██████████| 10/10 [00:03<00:00,  3.14 Samples/s]\n"
     ]
    },
    {
     "name": "stdout",
     "output_type": "stream",
     "text": [
      "Initialised with 3 image(s) found.\n",
      "Output directory set to /workspaces/finetune/combined_classes/3001051631/output."
     ]
    },
    {
     "name": "stderr",
     "output_type": "stream",
     "text": [
      "Processing <PIL.Image.Image image mode=RGB size=1600x1200 at 0x7A057D7F69E0>: 100%|██████████| 10/10 [00:00<00:00, 14.56 Samples/s]\n",
      "Processing <PIL.Image.Image image mode=RGB size=1600x1200 at 0x7A057D79FAC0>: 100%|██████████| 10/10 [00:00<00:00, 17.88 Samples/s]\n",
      "Processing <PIL.Image.Image image mode=RGB size=1600x1200 at 0x7A057D794AC0>: 100%|██████████| 10/10 [00:00<00:00, 14.73 Samples/s]\n"
     ]
    },
    {
     "name": "stdout",
     "output_type": "stream",
     "text": [
      "Initialised with 1 image(s) found.\n",
      "Output directory set to /workspaces/finetune/combined_classes/3000181115/output."
     ]
    },
    {
     "name": "stderr",
     "output_type": "stream",
     "text": [
      "Processing <PIL.Image.Image image mode=RGB size=4032x2268 at 0x7A057D79B850>: 100%|██████████| 10/10 [00:02<00:00,  3.46 Samples/s]\n"
     ]
    },
    {
     "name": "stdout",
     "output_type": "stream",
     "text": [
      "Initialised with 1 image(s) found.\n",
      "Output directory set to /workspaces/finetune/combined_classes/3001560620/output."
     ]
    },
    {
     "name": "stderr",
     "output_type": "stream",
     "text": [
      "Processing <PIL.Image.Image image mode=RGB size=4032x2268 at 0x7A057D7F0760>: 100%|██████████| 10/10 [00:02<00:00,  3.52 Samples/s]\n"
     ]
    },
    {
     "name": "stdout",
     "output_type": "stream",
     "text": [
      "Initialised with 1 image(s) found.\n",
      "Output directory set to /workspaces/finetune/combined_classes/2998793276/output."
     ]
    },
    {
     "name": "stderr",
     "output_type": "stream",
     "text": [
      "Processing <PIL.Image.Image image mode=RGB size=1600x1200 at 0x7A057D76F010>: 100%|██████████| 10/10 [00:00<00:00, 17.18 Samples/s]\n"
     ]
    },
    {
     "name": "stdout",
     "output_type": "stream",
     "text": [
      "Initialised with 1 image(s) found.\n",
      "Output directory set to /workspaces/finetune/combined_classes/3000000021/output."
     ]
    },
    {
     "name": "stderr",
     "output_type": "stream",
     "text": [
      "Processing <PIL.Image.Image image mode=RGB size=1600x1200 at 0x7A057D7F4CD0>: 100%|██████████| 10/10 [00:00<00:00, 14.71 Samples/s]\n"
     ]
    },
    {
     "name": "stdout",
     "output_type": "stream",
     "text": [
      "Initialised with 6 image(s) found.\n",
      "Output directory set to /workspaces/finetune/combined_classes/2996873801/output."
     ]
    },
    {
     "name": "stderr",
     "output_type": "stream",
     "text": [
      "Processing <PIL.Image.Image image mode=RGB size=4032x2268 at 0x7A057D7F3DC0>: 100%|██████████| 10/10 [00:03<00:00,  2.88 Samples/s]\n",
      "Processing <PIL.Image.Image image mode=RGB size=4032x2268 at 0x7A057D7F67D0>: 100%|██████████| 10/10 [00:03<00:00,  3.20 Samples/s]\n",
      "Processing <PIL.Image.Image image mode=RGB size=4032x2268 at 0x7A057D7F2020>: 100%|██████████| 10/10 [00:03<00:00,  3.04 Samples/s]\n",
      "Processing <PIL.Image.Image image mode=RGB size=4032x2268 at 0x7A057D79F760>: 100%|██████████| 10/10 [00:02<00:00,  4.24 Samples/s]\n",
      "Processing <PIL.Image.Image image mode=RGB size=4032x2268 at 0x7A057D799870>: 100%|██████████| 10/10 [00:03<00:00,  2.90 Samples/s]\n",
      "Processing <PIL.JpegImagePlugin.JpegImageFile image mode=RGB size=4032x2268 at 0x7A057D79A320>: 100%|██████████| 10/10 [00:02<00:00,  3.90 Samples/s]\n"
     ]
    },
    {
     "name": "stdout",
     "output_type": "stream",
     "text": [
      "Initialised with 4 image(s) found.\n",
      "Output directory set to /workspaces/finetune/combined_classes/2999433605/output."
     ]
    },
    {
     "name": "stderr",
     "output_type": "stream",
     "text": [
      "Processing <PIL.Image.Image image mode=RGB size=4032x2268 at 0x7A057D7F0370>: 100%|██████████| 10/10 [00:02<00:00,  3.74 Samples/s]\n",
      "Processing <PIL.Image.Image image mode=RGB size=4032x2268 at 0x7A057D79B310>: 100%|██████████| 10/10 [00:03<00:00,  3.21 Samples/s]\n",
      "Processing <PIL.Image.Image image mode=RGB size=4032x2268 at 0x7A057D7F39D0>: 100%|██████████| 10/10 [00:02<00:00,  3.42 Samples/s]\n",
      "Processing <PIL.Image.Image image mode=RGB size=4032x2268 at 0x7A057D79ABF0>: 100%|██████████| 10/10 [00:03<00:00,  3.10 Samples/s]\n"
     ]
    },
    {
     "name": "stdout",
     "output_type": "stream",
     "text": [
      "Initialised with 9 image(s) found.\n",
      "Output directory set to /workspaces/finetune/combined_classes/3000184433/output."
     ]
    },
    {
     "name": "stderr",
     "output_type": "stream",
     "text": [
      "Processing <PIL.Image.Image image mode=RGB size=4032x2268 at 0x7A057D7F6E90>: 100%|██████████| 10/10 [00:03<00:00,  2.97 Samples/s]\n",
      "Processing <PIL.Image.Image image mode=RGB size=4032x2268 at 0x7A057D7CF6A0>: 100%|██████████| 10/10 [00:02<00:00,  3.63 Samples/s]\n",
      "Processing <PIL.Image.Image image mode=RGB size=4032x2268 at 0x7A057D7CF670>: 100%|██████████| 10/10 [00:03<00:00,  3.24 Samples/s]\n",
      "Processing <PIL.Image.Image image mode=RGB size=4032x2268 at 0x7A057D7CFCD0>: 100%|██████████| 10/10 [00:03<00:00,  3.28 Samples/s]\n",
      "Processing <PIL.Image.Image image mode=RGB size=4032x2268 at 0x7A057D7CEC50>: 100%|██████████| 10/10 [00:03<00:00,  2.88 Samples/s]\n",
      "Processing <PIL.Image.Image image mode=RGB size=4032x2268 at 0x7A057D7CD240>: 100%|██████████| 10/10 [00:02<00:00,  3.94 Samples/s]\n",
      "Processing <PIL.Image.Image image mode=RGB size=4032x2268 at 0x7A057D7CC220>: 100%|██████████| 10/10 [00:03<00:00,  3.07 Samples/s]\n",
      "Processing <PIL.Image.Image image mode=RGB size=4032x2268 at 0x7A057D7CEE00>: 100%|██████████| 10/10 [00:02<00:00,  3.56 Samples/s]\n",
      "Processing <PIL.Image.Image image mode=RGB size=4032x2268 at 0x7A057D795A80>: 100%|██████████| 10/10 [00:03<00:00,  3.13 Samples/s]\n"
     ]
    },
    {
     "name": "stdout",
     "output_type": "stream",
     "text": [
      "Initialised with 7 image(s) found.\n",
      "Output directory set to /workspaces/finetune/combined_classes/3001577135/output."
     ]
    },
    {
     "name": "stderr",
     "output_type": "stream",
     "text": [
      "Processing <PIL.Image.Image image mode=RGB size=4032x2268 at 0x7A057D7CFE80>: 100%|██████████| 10/10 [00:02<00:00,  3.55 Samples/s]\n",
      "Processing <PIL.Image.Image image mode=RGB size=4032x2268 at 0x7A057D7CE020>: 100%|██████████| 10/10 [00:03<00:00,  3.27 Samples/s]\n",
      "Processing <PIL.Image.Image image mode=RGB size=4032x2268 at 0x7A057D797A60>: 100%|██████████| 10/10 [00:02<00:00,  3.50 Samples/s]\n",
      "Processing <PIL.Image.Image image mode=RGB size=4032x2268 at 0x7A057D7968C0>: 100%|██████████| 10/10 [00:02<00:00,  3.53 Samples/s]\n",
      "Processing <PIL.Image.Image image mode=RGB size=4032x2268 at 0x7A057D797C10>: 100%|██████████| 10/10 [00:03<00:00,  2.85 Samples/s]\n",
      "Processing <PIL.Image.Image image mode=RGB size=4032x2268 at 0x7A057D7CE4D0>: 100%|██████████| 10/10 [00:03<00:00,  3.31 Samples/s]\n",
      "Processing <PIL.Image.Image image mode=RGB size=4032x2268 at 0x7A057D76F190>: 100%|██████████| 10/10 [00:02<00:00,  3.60 Samples/s]\n"
     ]
    },
    {
     "name": "stdout",
     "output_type": "stream",
     "text": [
      "Initialised with 2 image(s) found.\n",
      "Output directory set to /workspaces/finetune/combined_classes/2999578673/output."
     ]
    },
    {
     "name": "stderr",
     "output_type": "stream",
     "text": [
      "Processing <PIL.Image.Image image mode=RGB size=4032x2268 at 0x7A057D7CFC70>: 100%|██████████| 10/10 [00:03<00:00,  3.24 Samples/s]\n",
      "Processing <PIL.Image.Image image mode=RGB size=4032x2268 at 0x7A057D7CF940>: 100%|██████████| 10/10 [00:03<00:00,  3.33 Samples/s]\n"
     ]
    },
    {
     "name": "stdout",
     "output_type": "stream",
     "text": [
      "Initialised with 2 image(s) found.\n",
      "Output directory set to /workspaces/finetune/combined_classes/2999741636/output."
     ]
    },
    {
     "name": "stderr",
     "output_type": "stream",
     "text": [
      "Processing <PIL.Image.Image image mode=RGB size=1600x1200 at 0x7A057D797C10>: 100%|██████████| 10/10 [00:00<00:00, 13.10 Samples/s]\n",
      "Processing <PIL.Image.Image image mode=RGB size=1600x1200 at 0x7A057D7CFC10>: 100%|██████████| 10/10 [00:00<00:00, 18.75 Samples/s]\n"
     ]
    },
    {
     "name": "stdout",
     "output_type": "stream",
     "text": [
      "Initialised with 3 image(s) found.\n",
      "Output directory set to /workspaces/finetune/combined_classes/2999950529/output."
     ]
    },
    {
     "name": "stderr",
     "output_type": "stream",
     "text": [
      "Processing <PIL.Image.Image image mode=RGB size=1600x1200 at 0x7A057D76FB20>: 100%|██████████| 10/10 [00:00<00:00, 16.23 Samples/s]\n",
      "Processing <PIL.Image.Image image mode=RGB size=1600x1200 at 0x7A057D7CFE50>: 100%|██████████| 10/10 [00:00<00:00, 18.15 Samples/s]\n",
      "Processing <PIL.Image.Image image mode=RGB size=1600x1200 at 0x7A05902218D0>: 100%|██████████| 10/10 [00:00<00:00, 17.26 Samples/s]\n"
     ]
    },
    {
     "name": "stdout",
     "output_type": "stream",
     "text": [
      "Initialised with 1 image(s) found.\n",
      "Output directory set to /workspaces/finetune/combined_classes/2998773359/output."
     ]
    },
    {
     "name": "stderr",
     "output_type": "stream",
     "text": [
      "Processing <PIL.Image.Image image mode=RGB size=1600x1200 at 0x7A057D7F2B90>: 100%|██████████| 10/10 [00:00<00:00, 13.30 Samples/s]\n"
     ]
    },
    {
     "name": "stdout",
     "output_type": "stream",
     "text": [
      "Initialised with 1 image(s) found.\n",
      "Output directory set to /workspaces/finetune/combined_classes/3001868000/output."
     ]
    },
    {
     "name": "stderr",
     "output_type": "stream",
     "text": [
      "Processing <PIL.Image.Image image mode=RGB size=4032x2268 at 0x7A057D76EA40>: 100%|██████████| 10/10 [00:02<00:00,  4.57 Samples/s]\n"
     ]
    },
    {
     "name": "stdout",
     "output_type": "stream",
     "text": [
      "Initialised with 1 image(s) found.\n",
      "Output directory set to /workspaces/finetune/combined_classes/2999556251/output."
     ]
    },
    {
     "name": "stderr",
     "output_type": "stream",
     "text": [
      "Processing <PIL.Image.Image image mode=RGB size=1600x1200 at 0x7A057D7F1330>: 100%|██████████| 10/10 [00:00<00:00, 12.70 Samples/s]\n"
     ]
    },
    {
     "name": "stdout",
     "output_type": "stream",
     "text": [
      "Initialised with 3 image(s) found.\n",
      "Output directory set to /workspaces/finetune/combined_classes/3001578275/output."
     ]
    },
    {
     "name": "stderr",
     "output_type": "stream",
     "text": [
      "Processing <PIL.Image.Image image mode=RGB size=4032x2268 at 0x7A057D76F1F0>: 100%|██████████| 10/10 [00:02<00:00,  3.52 Samples/s]\n",
      "Processing <PIL.Image.Image image mode=RGB size=4032x2268 at 0x7A057D796350>: 100%|██████████| 10/10 [00:03<00:00,  3.15 Samples/s]\n",
      "Processing <PIL.Image.Image image mode=RGB size=4032x2268 at 0x7A057D796350>: 100%|██████████| 10/10 [00:03<00:00,  3.31 Samples/s]\n"
     ]
    },
    {
     "name": "stdout",
     "output_type": "stream",
     "text": [
      "Initialised with 1 image(s) found.\n",
      "Output directory set to /workspaces/finetune/combined_classes/3000000009/output."
     ]
    },
    {
     "name": "stderr",
     "output_type": "stream",
     "text": [
      "Processing <PIL.Image.Image image mode=RGB size=1600x1200 at 0x7A057D7F0580>: 100%|██████████| 10/10 [00:00<00:00, 13.56 Samples/s]\n"
     ]
    },
    {
     "name": "stdout",
     "output_type": "stream",
     "text": [
      "Initialised with 3 image(s) found.\n",
      "Output directory set to /workspaces/finetune/combined_classes/3001563530/output."
     ]
    },
    {
     "name": "stderr",
     "output_type": "stream",
     "text": [
      "Processing <PIL.Image.Image image mode=RGB size=4032x2268 at 0x7A057D7F2050>: 100%|██████████| 10/10 [00:02<00:00,  3.46 Samples/s]\n",
      "Processing <PIL.Image.Image image mode=RGB size=4032x2268 at 0x7A057D7F13C0>: 100%|██████████| 10/10 [00:03<00:00,  2.99 Samples/s]\n",
      "Processing <PIL.Image.Image image mode=RGB size=4032x2268 at 0x7A057D7F3130>: 100%|██████████| 10/10 [00:02<00:00,  3.50 Samples/s]\n"
     ]
    },
    {
     "name": "stdout",
     "output_type": "stream",
     "text": [
      "Initialised with 2 image(s) found.\n",
      "Output directory set to /workspaces/finetune/combined_classes/3001752161/output."
     ]
    },
    {
     "name": "stderr",
     "output_type": "stream",
     "text": [
      "Processing <PIL.Image.Image image mode=RGB size=1600x1200 at 0x7A057D7F3700>: 100%|██████████| 10/10 [00:00<00:00, 14.55 Samples/s]\n",
      "Processing <PIL.Image.Image image mode=RGB size=1600x1200 at 0x7A057D76F7C0>: 100%|██████████| 10/10 [00:00<00:00, 17.49 Samples/s]\n"
     ]
    },
    {
     "name": "stdout",
     "output_type": "stream",
     "text": [
      "Initialised with 6 image(s) found.\n",
      "Output directory set to /workspaces/finetune/combined_classes/3001548530/output."
     ]
    },
    {
     "name": "stderr",
     "output_type": "stream",
     "text": [
      "Processing <PIL.Image.Image image mode=RGB size=4032x2268 at 0x7A057D7F3EB0>: 100%|██████████| 10/10 [00:03<00:00,  3.07 Samples/s]\n",
      "Processing <PIL.Image.Image image mode=RGB size=4032x2268 at 0x7A057D7CEE90>: 100%|██████████| 10/10 [00:02<00:00,  3.44 Samples/s]\n",
      "Processing <PIL.Image.Image image mode=RGB size=4032x2268 at 0x7A057D7F72B0>: 100%|██████████| 10/10 [00:02<00:00,  3.39 Samples/s]\n",
      "Processing <PIL.Image.Image image mode=RGB size=4032x2268 at 0x7A057D7F2AD0>: 100%|██████████| 10/10 [00:03<00:00,  3.29 Samples/s]\n",
      "Processing <PIL.Image.Image image mode=RGB size=4032x2268 at 0x7A057D7F2C80>: 100%|██████████| 10/10 [00:03<00:00,  2.89 Samples/s]\n",
      "Processing <PIL.Image.Image image mode=RGB size=4032x2268 at 0x7A057D7F5F30>: 100%|██████████| 10/10 [00:02<00:00,  3.74 Samples/s]\n"
     ]
    },
    {
     "name": "stdout",
     "output_type": "stream",
     "text": [
      "Initialised with 1 image(s) found.\n",
      "Output directory set to /workspaces/finetune/combined_classes/2999895419/output."
     ]
    },
    {
     "name": "stderr",
     "output_type": "stream",
     "text": [
      "Processing <PIL.Image.Image image mode=RGB size=1600x1200 at 0x7A057D7F6230>: 100%|██████████| 10/10 [00:00<00:00, 13.51 Samples/s]\n"
     ]
    },
    {
     "name": "stdout",
     "output_type": "stream",
     "text": [
      "Initialised with 8 image(s) found.\n",
      "Output directory set to /workspaces/finetune/combined_classes/3000084173/output."
     ]
    },
    {
     "name": "stderr",
     "output_type": "stream",
     "text": [
      "Processing <PIL.Image.Image image mode=RGB size=768x1024 at 0x7A057D7CF730>: 100%|██████████| 10/10 [00:00<00:00, 26.40 Samples/s]\n",
      "Processing <PIL.Image.Image image mode=RGB size=1280x960 at 0x7A057D7F3700>: 100%|██████████| 10/10 [00:00<00:00, 25.93 Samples/s]\n",
      "Processing <PIL.Image.Image image mode=RGB size=1280x960 at 0x7A057D7F2320>: 100%|██████████| 10/10 [00:00<00:00, 26.18 Samples/s]\n",
      "Processing <PIL.Image.Image image mode=RGB size=1280x960 at 0x7A057D7F7BB0>: 100%|██████████| 10/10 [00:00<00:00, 25.34 Samples/s]\n",
      "Processing <PIL.Image.Image image mode=RGB size=1280x960 at 0x7A057D7CDA50>: 100%|██████████| 10/10 [00:00<00:00, 30.18 Samples/s]\n",
      "Processing <PIL.Image.Image image mode=RGB size=768x1024 at 0x7A057D7F7CA0>: 100%|██████████| 10/10 [00:00<00:00, 30.02 Samples/s]\n",
      "Processing <PIL.Image.Image image mode=RGB size=1280x960 at 0x7A057D7F5CF0>: 100%|██████████| 10/10 [00:00<00:00, 24.31 Samples/s]\n",
      "Processing <PIL.Image.Image image mode=RGB size=1280x960 at 0x7A057D7F42E0>: 100%|██████████| 10/10 [00:00<00:00, 27.63 Samples/s]\n"
     ]
    },
    {
     "name": "stdout",
     "output_type": "stream",
     "text": [
      "Initialised with 3 image(s) found.\n",
      "Output directory set to /workspaces/finetune/combined_classes/2999875040/output."
     ]
    },
    {
     "name": "stderr",
     "output_type": "stream",
     "text": [
      "Processing <PIL.Image.Image image mode=RGB size=1600x1200 at 0x7A057D7CC8E0>: 100%|██████████| 10/10 [00:00<00:00, 15.93 Samples/s]\n",
      "Processing <PIL.Image.Image image mode=RGB size=1600x1200 at 0x7A057D7F24A0>: 100%|██████████| 10/10 [00:00<00:00, 19.02 Samples/s]\n",
      "Processing <PIL.Image.Image image mode=RGB size=1600x1200 at 0x7A057D7F42B0>: 100%|██████████| 10/10 [00:00<00:00, 16.12 Samples/s]\n"
     ]
    },
    {
     "name": "stdout",
     "output_type": "stream",
     "text": [
      "Initialised with 2 image(s) found.\n",
      "Output directory set to /workspaces/finetune/combined_classes/3001567532/output."
     ]
    },
    {
     "name": "stderr",
     "output_type": "stream",
     "text": [
      "Processing <PIL.Image.Image image mode=RGB size=4032x2268 at 0x7A057D7F3A00>: 100%|██████████| 10/10 [00:02<00:00,  3.98 Samples/s]\n",
      "Processing <PIL.Image.Image image mode=RGB size=4032x2268 at 0x7A057D799E40>: 100%|██████████| 10/10 [00:02<00:00,  3.51 Samples/s]\n"
     ]
    },
    {
     "name": "stdout",
     "output_type": "stream",
     "text": [
      "Initialised with 7 image(s) found.\n",
      "Output directory set to /workspaces/finetune/combined_classes/2999673866/output."
     ]
    },
    {
     "name": "stderr",
     "output_type": "stream",
     "text": [
      "Processing <PIL.Image.Image image mode=RGB size=4032x2268 at 0x7A057D7F2800>: 100%|██████████| 10/10 [00:03<00:00,  2.86 Samples/s]\n",
      "Processing <PIL.Image.Image image mode=RGB size=4032x2268 at 0x7A057D7F52D0>: 100%|██████████| 10/10 [00:02<00:00,  3.69 Samples/s]                 \n",
      "Processing <PIL.Image.Image image mode=RGB size=4032x2268 at 0x7A057D7CD090>: 100%|██████████| 10/10 [00:02<00:00,  3.59 Samples/s]\n",
      "Processing <PIL.Image.Image image mode=RGB size=4032x2268 at 0x7A057D7F60B0>: 100%|██████████| 10/10 [00:03<00:00,  3.30 Samples/s]\n",
      "Processing <PIL.Image.Image image mode=RGB size=4032x2268 at 0x7A057D79A3E0>: 100%|██████████| 10/10 [00:03<00:00,  3.14 Samples/s]\n",
      "Processing <PIL.Image.Image image mode=RGB size=4032x2268 at 0x7A057D7F32E0>: 100%|██████████| 10/10 [00:02<00:00,  3.48 Samples/s]\n",
      "Processing <PIL.Image.Image image mode=RGB size=4032x2268 at 0x7A057D7999C0>: 100%|██████████| 10/10 [00:03<00:00,  3.33 Samples/s]\n"
     ]
    },
    {
     "name": "stdout",
     "output_type": "stream",
     "text": [
      "Initialised with 1 image(s) found.\n",
      "Output directory set to /workspaces/finetune/combined_classes/3001956908/output."
     ]
    },
    {
     "name": "stderr",
     "output_type": "stream",
     "text": [
      "Processing <PIL.Image.Image image mode=RGB size=1600x1200 at 0x7A057D79BFD0>: 100%|██████████| 10/10 [00:00<00:00, 14.77 Samples/s]\n"
     ]
    },
    {
     "name": "stdout",
     "output_type": "stream",
     "text": [
      "Initialised with 3 image(s) found.\n",
      "Output directory set to /workspaces/finetune/combined_classes/3000078011/output."
     ]
    },
    {
     "name": "stderr",
     "output_type": "stream",
     "text": [
      "Processing <PIL.Image.Image image mode=RGB size=1600x1200 at 0x7A057D79AC20>: 100%|██████████| 10/10 [00:00<00:00, 14.93 Samples/s]\n",
      "Processing <PIL.Image.Image image mode=RGB size=1600x1200 at 0x7A057D79FA00>: 100%|██████████| 10/10 [00:00<00:00, 16.44 Samples/s]\n",
      "Processing <PIL.Image.Image image mode=RGB size=1600x1200 at 0x7A057D79AAA0>: 100%|██████████| 10/10 [00:00<00:00, 17.58 Samples/s]\n"
     ]
    },
    {
     "name": "stdout",
     "output_type": "stream",
     "text": [
      "Initialised with 2 image(s) found.\n",
      "Output directory set to /workspaces/finetune/combined_classes/3000077819/output."
     ]
    },
    {
     "name": "stderr",
     "output_type": "stream",
     "text": [
      "Processing <PIL.Image.Image image mode=RGB size=1600x1200 at 0x7A057D7F15A0>: 100%|██████████| 10/10 [00:00<00:00, 13.40 Samples/s]\n",
      "Processing <PIL.Image.Image image mode=RGB size=1600x1200 at 0x7A057D79F2E0>: 100%|██████████| 10/10 [00:00<00:00, 16.33 Samples/s]\n"
     ]
    },
    {
     "name": "stdout",
     "output_type": "stream",
     "text": [
      "Initialised with 2 image(s) found.\n",
      "Output directory set to /workspaces/finetune/combined_classes/2996669957/output."
     ]
    },
    {
     "name": "stderr",
     "output_type": "stream",
     "text": [
      "Processing <PIL.Image.Image image mode=RGB size=4032x2268 at 0x7A057D79F1C0>: 100%|██████████| 10/10 [00:03<00:00,  3.15 Samples/s]\n",
      "Processing <PIL.Image.Image image mode=RGB size=4032x2268 at 0x7A057C605D20>: 100%|██████████| 10/10 [00:02<00:00,  3.49 Samples/s]\n"
     ]
    },
    {
     "name": "stdout",
     "output_type": "stream",
     "text": [
      "Initialised with 2 image(s) found.\n",
      "Output directory set to /workspaces/finetune/combined_classes/3001766657/output."
     ]
    },
    {
     "name": "stderr",
     "output_type": "stream",
     "text": [
      "Processing <PIL.Image.Image image mode=RGB size=4032x2268 at 0x7A057D7F2350>: 100%|██████████| 10/10 [00:03<00:00,  2.80 Samples/s]\n",
      "Processing <PIL.Image.Image image mode=RGB size=4032x2268 at 0x7A057D798250>: 100%|██████████| 10/10 [00:02<00:00,  3.46 Samples/s]\n"
     ]
    },
    {
     "name": "stdout",
     "output_type": "stream",
     "text": [
      "Initialised with 1 image(s) found.\n",
      "Output directory set to /workspaces/finetune/combined_classes/2999496803/output."
     ]
    },
    {
     "name": "stderr",
     "output_type": "stream",
     "text": [
      "Processing <PIL.Image.Image image mode=RGB size=1600x1200 at 0x7A057D79E770>: 100%|██████████| 10/10 [00:00<00:00, 13.88 Samples/s]\n"
     ]
    },
    {
     "name": "stdout",
     "output_type": "stream",
     "text": [
      "Initialised with 6 image(s) found.\n",
      "Output directory set to /workspaces/finetune/combined_classes/3000113171/output."
     ]
    },
    {
     "name": "stderr",
     "output_type": "stream",
     "text": [
      "Processing <PIL.Image.Image image mode=RGB size=4032x2268 at 0x7A057D79D3F0>: 100%|██████████| 10/10 [00:02<00:00,  3.34 Samples/s]\n",
      "Processing <PIL.Image.Image image mode=RGB size=4032x2268 at 0x7A057D79BCD0>: 100%|██████████| 10/10 [00:02<00:00,  3.51 Samples/s]\n",
      "Processing <PIL.Image.Image image mode=RGB size=4032x2268 at 0x7A057D79BA60>: 100%|██████████| 10/10 [00:02<00:00,  3.33 Samples/s]\n",
      "Processing <PIL.Image.Image image mode=RGB size=4032x2268 at 0x7A057D79F2E0>: 100%|██████████| 10/10 [00:03<00:00,  3.30 Samples/s]\n",
      "Processing <PIL.Image.Image image mode=RGB size=4032x2268 at 0x7A057D79F0A0>: 100%|██████████| 10/10 [00:03<00:00,  2.72 Samples/s]\n",
      "Processing <PIL.Image.Image image mode=RGB size=4032x2268 at 0x7A057D79D090>: 100%|██████████| 10/10 [00:02<00:00,  3.66 Samples/s]\n"
     ]
    },
    {
     "name": "stdout",
     "output_type": "stream",
     "text": [
      "Initialised with 3 image(s) found.\n",
      "Output directory set to /workspaces/finetune/combined_classes/2999950538/output."
     ]
    },
    {
     "name": "stderr",
     "output_type": "stream",
     "text": [
      "Processing <PIL.Image.Image image mode=RGB size=1600x1200 at 0x7A057D7F0970>: 100%|██████████| 10/10 [00:00<00:00, 14.57 Samples/s]\n",
      "Processing <PIL.Image.Image image mode=RGB size=1600x1200 at 0x7A057D7F2080>: 100%|██████████| 10/10 [00:00<00:00, 16.77 Samples/s]\n",
      "Processing <PIL.Image.Image image mode=RGB size=1600x1200 at 0x7A057C605660>: 100%|██████████| 10/10 [00:00<00:00, 14.03 Samples/s]\n"
     ]
    },
    {
     "name": "stdout",
     "output_type": "stream",
     "text": [
      "Initialised with 3 image(s) found.\n",
      "Output directory set to /workspaces/finetune/combined_classes/2999885192/output."
     ]
    },
    {
     "name": "stderr",
     "output_type": "stream",
     "text": [
      "Processing <PIL.Image.Image image mode=RGB size=4032x2268 at 0x7A057D7986D0>: 100%|██████████| 10/10 [00:02<00:00,  3.52 Samples/s]\n",
      "Processing <PIL.Image.Image image mode=RGB size=4032x2268 at 0x7A057C605150>: 100%|██████████| 10/10 [00:03<00:00,  2.82 Samples/s]\n",
      "Processing <PIL.Image.Image image mode=RGB size=4032x2268 at 0x7A057C606920>: 100%|██████████| 10/10 [00:03<00:00,  2.85 Samples/s]\n"
     ]
    },
    {
     "name": "stdout",
     "output_type": "stream",
     "text": [
      "Initialised with 4 image(s) found.\n",
      "Output directory set to /workspaces/finetune/combined_classes/3001209770/output."
     ]
    },
    {
     "name": "stderr",
     "output_type": "stream",
     "text": [
      "Processing <PIL.Image.Image image mode=RGB size=4032x2268 at 0x7A057D79AC50>: 100%|██████████| 10/10 [00:02<00:00,  3.50 Samples/s]\n",
      "Processing <PIL.Image.Image image mode=RGB size=4032x2268 at 0x7A057D79DAB0>: 100%|██████████| 10/10 [00:02<00:00,  3.88 Samples/s]\n",
      "Processing <PIL.Image.Image image mode=RGB size=4032x2268 at 0x7A057D79E1A0>: 100%|██████████| 10/10 [00:02<00:00,  3.62 Samples/s]\n",
      "Processing <PIL.Image.Image image mode=RGB size=4032x2268 at 0x7A057D79E020>: 100%|██████████| 10/10 [00:03<00:00,  3.24 Samples/s]\n"
     ]
    },
    {
     "name": "stdout",
     "output_type": "stream",
     "text": [
      "Initialised with 2 image(s) found.\n",
      "Output directory set to /workspaces/finetune/combined_classes/3000077915/output."
     ]
    },
    {
     "name": "stderr",
     "output_type": "stream",
     "text": [
      "Processing <PIL.Image.Image image mode=RGB size=1600x1200 at 0x7A057D79DEA0>: 100%|██████████| 10/10 [00:00<00:00, 14.95 Samples/s]                 \n",
      "Processing <PIL.Image.Image image mode=RGB size=1600x1200 at 0x7A057D7F2B00>: 100%|██████████| 10/10 [00:00<00:00, 15.17 Samples/s]\n"
     ]
    },
    {
     "name": "stdout",
     "output_type": "stream",
     "text": [
      "Initialised with 2 image(s) found.\n",
      "Output directory set to /workspaces/finetune/combined_classes/3001577057/output."
     ]
    },
    {
     "name": "stderr",
     "output_type": "stream",
     "text": [
      "Processing <PIL.Image.Image image mode=RGB size=1600x1200 at 0x7A057D79A410>: 100%|██████████| 10/10 [00:00<00:00, 15.75 Samples/s]\n",
      "Processing <PIL.Image.Image image mode=RGB size=1600x1200 at 0x7A057D79C6D0>: 100%|██████████| 10/10 [00:00<00:00, 19.27 Samples/s]\n"
     ]
    },
    {
     "name": "stdout",
     "output_type": "stream",
     "text": [
      "Initialised with 6 image(s) found.\n",
      "Output directory set to /workspaces/finetune/combined_classes/3001688381/output."
     ]
    },
    {
     "name": "stderr",
     "output_type": "stream",
     "text": [
      "Processing <PIL.Image.Image image mode=RGB size=4032x2268 at 0x7A057D7982B0>: 100%|██████████| 10/10 [00:02<00:00,  3.37 Samples/s]\n",
      "Processing <PIL.Image.Image image mode=RGB size=4032x2268 at 0x7A057D79B0D0>: 100%|██████████| 10/10 [00:03<00:00,  2.97 Samples/s]\n",
      "Processing <PIL.Image.Image image mode=RGB size=4032x2268 at 0x7A057D79AC20>: 100%|██████████| 10/10 [00:03<00:00,  3.03 Samples/s]\n",
      "Processing <PIL.Image.Image image mode=RGB size=4032x2268 at 0x7A057D79B9D0>: 100%|██████████| 10/10 [00:02<00:00,  3.46 Samples/s]\n",
      "Processing <PIL.Image.Image image mode=RGB size=4032x2268 at 0x7A057D79AC20>: 100%|██████████| 10/10 [00:02<00:00,  3.54 Samples/s]\n",
      "Processing <PIL.Image.Image image mode=RGB size=4032x2268 at 0x7A057D79FEE0>: 100%|██████████| 10/10 [00:02<00:00,  3.95 Samples/s]\n"
     ]
    },
    {
     "name": "stdout",
     "output_type": "stream",
     "text": [
      "Initialised with 1 image(s) found.\n",
      "Output directory set to /workspaces/finetune/combined_classes/3001766660/output."
     ]
    },
    {
     "name": "stderr",
     "output_type": "stream",
     "text": [
      "Processing <PIL.Image.Image image mode=RGB size=4032x2268 at 0x7A057D7F7FA0>: 100%|██████████| 10/10 [00:02<00:00,  3.36 Samples/s]\n"
     ]
    },
    {
     "name": "stdout",
     "output_type": "stream",
     "text": [
      "Initialised with 3 image(s) found.\n",
      "Output directory set to /workspaces/finetune/combined_classes/3001578113/output."
     ]
    },
    {
     "name": "stderr",
     "output_type": "stream",
     "text": [
      "Processing <PIL.Image.Image image mode=RGB size=4032x2268 at 0x7A057D79B820>: 100%|██████████| 10/10 [00:02<00:00,  3.34 Samples/s]\n",
      "Processing <PIL.Image.Image image mode=RGB size=4032x2268 at 0x7A057D7F5990>: 100%|██████████| 10/10 [00:02<00:00,  3.56 Samples/s]\n",
      "Processing <PIL.Image.Image image mode=RGB size=4032x2268 at 0x7A057C6076D0>: 100%|██████████| 10/10 [00:02<00:00,  3.63 Samples/s]\n"
     ]
    },
    {
     "name": "stdout",
     "output_type": "stream",
     "text": [
      "Initialised with 2 image(s) found.\n",
      "Output directory set to /workspaces/finetune/combined_classes/3000113150/output."
     ]
    },
    {
     "name": "stderr",
     "output_type": "stream",
     "text": [
      "Processing <PIL.JpegImagePlugin.JpegImageFile image mode=RGB size=4032x2268 at 0x7A057C6063E0>: 100%|██████████| 10/10 [00:02<00:00,  3.94 Samples/s]\n",
      "Processing <PIL.Image.Image image mode=RGB size=4032x2268 at 0x7A057D7991B0>: 100%|██████████| 10/10 [00:02<00:00,  3.86 Samples/s]\n"
     ]
    },
    {
     "name": "stdout",
     "output_type": "stream",
     "text": [
      "Initialised with 1 image(s) found.\n",
      "Output directory set to /workspaces/finetune/combined_classes/3000000024/output."
     ]
    },
    {
     "name": "stderr",
     "output_type": "stream",
     "text": [
      "Processing <PIL.Image.Image image mode=RGB size=1600x1200 at 0x7A057D7F63E0>: 100%|██████████| 10/10 [00:00<00:00, 15.27 Samples/s]\n"
     ]
    },
    {
     "name": "stdout",
     "output_type": "stream",
     "text": [
      "Initialised with 2 image(s) found.\n",
      "Output directory set to /workspaces/finetune/combined_classes/2999741537/output."
     ]
    },
    {
     "name": "stderr",
     "output_type": "stream",
     "text": [
      "Processing <PIL.Image.Image image mode=RGB size=1600x1200 at 0x7A057D7F0BE0>: 100%|██████████| 10/10 [00:00<00:00, 13.25 Samples/s]\n",
      "Processing <PIL.Image.Image image mode=RGB size=1600x1200 at 0x7A057C607370>: 100%|██████████| 10/10 [00:00<00:00, 16.58 Samples/s]\n"
     ]
    },
    {
     "name": "stdout",
     "output_type": "stream",
     "text": [
      "Initialised with 3 image(s) found.\n",
      "Output directory set to /workspaces/finetune/combined_classes/3001718270/output."
     ]
    },
    {
     "name": "stderr",
     "output_type": "stream",
     "text": [
      "Processing <PIL.Image.Image image mode=RGB size=4032x2268 at 0x7A057D79B4F0>: 100%|██████████| 10/10 [00:02<00:00,  3.98 Samples/s]\n",
      "Processing <PIL.Image.Image image mode=RGB size=4032x2268 at 0x7A057D7F27D0>: 100%|██████████| 10/10 [00:02<00:00,  3.51 Samples/s]\n",
      "Processing <PIL.Image.Image image mode=RGB size=4032x2268 at 0x7A057D79E500>: 100%|██████████| 10/10 [00:02<00:00,  3.71 Samples/s]\n"
     ]
    },
    {
     "name": "stdout",
     "output_type": "stream",
     "text": [
      "Initialised with 5 image(s) found.\n",
      "Output directory set to /workspaces/finetune/combined_classes/3001737116/output."
     ]
    },
    {
     "name": "stderr",
     "output_type": "stream",
     "text": [
      "Processing <PIL.Image.Image image mode=RGB size=4032x2268 at 0x7A057D79D900>: 100%|██████████| 10/10 [00:03<00:00,  3.33 Samples/s]\n",
      "Processing <PIL.Image.Image image mode=RGB size=4032x2268 at 0x7A057D7995A0>: 100%|██████████| 10/10 [00:03<00:00,  3.01 Samples/s]\n",
      "Processing <PIL.Image.Image image mode=RGB size=4032x2268 at 0x7A057D7F4DC0>: 100%|██████████| 10/10 [00:02<00:00,  3.37 Samples/s]\n",
      "Processing <PIL.Image.Image image mode=RGB size=4032x2268 at 0x7A057D798250>: 100%|██████████| 10/10 [00:02<00:00,  3.90 Samples/s]\n",
      "Processing <PIL.Image.Image image mode=RGB size=4032x2268 at 0x7A057C604F70>: 100%|██████████| 10/10 [00:02<00:00,  3.67 Samples/s]\n"
     ]
    },
    {
     "name": "stdout",
     "output_type": "stream",
     "text": [
      "Initialised with 1 image(s) found.\n",
      "Output directory set to /workspaces/finetune/combined_classes/3000181130/output."
     ]
    },
    {
     "name": "stderr",
     "output_type": "stream",
     "text": [
      "Processing <PIL.Image.Image image mode=RGB size=4032x2268 at 0x7A057D7F0A00>: 100%|██████████| 10/10 [00:02<00:00,  3.60 Samples/s]\n"
     ]
    },
    {
     "name": "stdout",
     "output_type": "stream",
     "text": [
      "Initialised with 4 image(s) found.\n",
      "Output directory set to /workspaces/finetune/combined_classes/2998789091/output."
     ]
    },
    {
     "name": "stderr",
     "output_type": "stream",
     "text": [
      "Processing <PIL.Image.Image image mode=RGB size=4032x2268 at 0x7A057D799AB0>: 100%|██████████| 10/10 [00:03<00:00,  3.00 Samples/s]\n",
      "Processing <PIL.Image.Image image mode=RGB size=4032x2268 at 0x7A057D79D2D0>: 100%|██████████| 10/10 [00:03<00:00,  2.83 Samples/s]\n",
      "Processing <PIL.Image.Image image mode=RGB size=4032x2268 at 0x7A057C606080>: 100%|██████████| 10/10 [00:02<00:00,  3.44 Samples/s]\n",
      "Processing <PIL.Image.Image image mode=RGB size=4032x2268 at 0x7A057C604160>: 100%|██████████| 10/10 [00:03<00:00,  2.96 Samples/s]\n"
     ]
    },
    {
     "name": "stdout",
     "output_type": "stream",
     "text": [
      "Initialised with 4 image(s) found.\n",
      "Output directory set to /workspaces/finetune/combined_classes/2998545692/output."
     ]
    },
    {
     "name": "stderr",
     "output_type": "stream",
     "text": [
      "Processing <PIL.Image.Image image mode=RGB size=4032x2268 at 0x7A057D79A170>: 100%|██████████| 10/10 [00:02<00:00,  3.48 Samples/s]\n",
      "Processing <PIL.Image.Image image mode=RGB size=4032x2268 at 0x7A057D798850>: 100%|██████████| 10/10 [00:03<00:00,  2.90 Samples/s]\n",
      "Processing <PIL.Image.Image image mode=RGB size=4032x2268 at 0x7A057D79EE00>: 100%|██████████| 10/10 [00:03<00:00,  2.93 Samples/s]\n",
      "Processing <PIL.Image.Image image mode=RGB size=4032x2268 at 0x7A057D79AC20>: 100%|██████████| 10/10 [00:02<00:00,  3.90 Samples/s]\n"
     ]
    },
    {
     "name": "stdout",
     "output_type": "stream",
     "text": [
      "Initialised with 1 image(s) found.\n",
      "Output directory set to /workspaces/finetune/combined_classes/2999741648/output."
     ]
    },
    {
     "name": "stderr",
     "output_type": "stream",
     "text": [
      "Processing <PIL.Image.Image image mode=RGB size=1600x1200 at 0x7A057D79D900>: 100%|██████████| 10/10 [00:00<00:00, 13.33 Samples/s]\n"
     ]
    },
    {
     "name": "stdout",
     "output_type": "stream",
     "text": [
      "Initialised with 1 image(s) found.\n",
      "Output directory set to /workspaces/finetune/combined_classes/2997671612/output."
     ]
    },
    {
     "name": "stderr",
     "output_type": "stream",
     "text": [
      "Processing <PIL.Image.Image image mode=RGB size=1600x1200 at 0x7A057D798940>: 100%|██████████| 10/10 [00:00<00:00, 17.20 Samples/s]\n"
     ]
    },
    {
     "name": "stdout",
     "output_type": "stream",
     "text": [
      "Initialised with 1 image(s) found.\n",
      "Output directory set to /workspaces/finetune/combined_classes/2999458466/output."
     ]
    },
    {
     "name": "stderr",
     "output_type": "stream",
     "text": [
      "Processing <PIL.Image.Image image mode=RGB size=1600x1200 at 0x7A057C604490>: 100%|██████████| 10/10 [00:00<00:00, 15.22 Samples/s]\n"
     ]
    },
    {
     "name": "stdout",
     "output_type": "stream",
     "text": [
      "Initialised with 2 image(s) found.\n",
      "Output directory set to /workspaces/finetune/combined_classes/3001429724/output."
     ]
    },
    {
     "name": "stderr",
     "output_type": "stream",
     "text": [
      "Processing <PIL.Image.Image image mode=RGB size=1600x1200 at 0x7A057D79DE10>: 100%|██████████| 10/10 [00:00<00:00, 19.50 Samples/s]\n",
      "Processing <PIL.Image.Image image mode=RGB size=1600x1200 at 0x7A057D798C70>: 100%|██████████| 10/10 [00:00<00:00, 18.20 Samples/s]                 \n"
     ]
    },
    {
     "name": "stdout",
     "output_type": "stream",
     "text": [
      "Initialised with 2 image(s) found.\n",
      "Output directory set to /workspaces/finetune/combined_classes/3000326180/output."
     ]
    },
    {
     "name": "stderr",
     "output_type": "stream",
     "text": [
      "Processing <PIL.Image.Image image mode=RGB size=4032x2268 at 0x7A057D79BBE0>: 100%|██████████| 10/10 [00:02<00:00,  3.57 Samples/s]\n",
      "Processing <PIL.Image.Image image mode=RGB size=4032x2268 at 0x7A057D79B8B0>: 100%|██████████| 10/10 [00:03<00:00,  3.25 Samples/s]\n"
     ]
    },
    {
     "name": "stdout",
     "output_type": "stream",
     "text": [
      "Initialised with 2 image(s) found.\n",
      "Output directory set to /workspaces/finetune/combined_classes/3000325604/output."
     ]
    },
    {
     "name": "stderr",
     "output_type": "stream",
     "text": [
      "Processing <PIL.Image.Image image mode=RGB size=4032x2268 at 0x7A057D7F49D0>: 100%|██████████| 10/10 [00:02<00:00,  3.46 Samples/s]\n",
      "Processing <PIL.Image.Image image mode=RGB size=4032x2268 at 0x7A057D799330>: 100%|██████████| 10/10 [00:03<00:00,  3.07 Samples/s]\n"
     ]
    },
    {
     "name": "stdout",
     "output_type": "stream",
     "text": [
      "Initialised with 1 image(s) found.\n",
      "Output directory set to /workspaces/finetune/combined_classes/3001532252/output."
     ]
    },
    {
     "name": "stderr",
     "output_type": "stream",
     "text": [
      "Processing <PIL.Image.Image image mode=RGB size=4032x2268 at 0x7A057D79FA60>: 100%|██████████| 10/10 [00:03<00:00,  3.11 Samples/s]\n"
     ]
    },
    {
     "name": "stdout",
     "output_type": "stream",
     "text": [
      "Initialised with 3 image(s) found.\n",
      "Output directory set to /workspaces/finetune/combined_classes/2998768994/output."
     ]
    },
    {
     "name": "stderr",
     "output_type": "stream",
     "text": [
      "Processing <PIL.Image.Image image mode=RGB size=1600x1200 at 0x7A057D7F5FF0>: 100%|██████████| 10/10 [00:00<00:00, 15.84 Samples/s]\n",
      "Processing <PIL.Image.Image image mode=RGB size=1600x1200 at 0x7A057D79D150>: 100%|██████████| 10/10 [00:00<00:00, 18.76 Samples/s]\n",
      "Processing <PIL.Image.Image image mode=RGB size=1600x1200 at 0x7A057D79C9D0>: 100%|██████████| 10/10 [00:00<00:00, 14.54 Samples/s]\n"
     ]
    },
    {
     "name": "stdout",
     "output_type": "stream",
     "text": [
      "Initialised with 5 image(s) found.\n",
      "Output directory set to /workspaces/finetune/combined_classes/2999866715/output."
     ]
    },
    {
     "name": "stderr",
     "output_type": "stream",
     "text": [
      "Processing <PIL.Image.Image image mode=RGB size=4032x2268 at 0x7A057C605150>: 100%|██████████| 10/10 [00:03<00:00,  3.15 Samples/s]\n",
      "Processing <PIL.Image.Image image mode=RGB size=4032x2268 at 0x7A057D79FA00>: 100%|██████████| 10/10 [00:03<00:00,  2.92 Samples/s]\n",
      "Processing <PIL.Image.Image image mode=RGB size=4032x2268 at 0x7A057D79F460>: 100%|██████████| 10/10 [00:02<00:00,  3.46 Samples/s]\n",
      "Processing <PIL.Image.Image image mode=RGB size=4032x2268 at 0x7A057D7994B0>: 100%|██████████| 10/10 [00:03<00:00,  3.28 Samples/s]\n",
      "Processing <PIL.Image.Image image mode=RGB size=4032x2268 at 0x7A057D79E0B0>: 100%|██████████| 10/10 [00:03<00:00,  2.96 Samples/s]\n"
     ]
    },
    {
     "name": "stdout",
     "output_type": "stream",
     "text": [
      "Initialised with 1 image(s) found.\n",
      "Output directory set to /workspaces/finetune/combined_classes/2995875059/output."
     ]
    },
    {
     "name": "stderr",
     "output_type": "stream",
     "text": [
      "Processing <PIL.Image.Image image mode=RGB size=1600x1200 at 0x7A057C607790>: 100%|██████████| 10/10 [00:00<00:00, 15.88 Samples/s]\n"
     ]
    },
    {
     "name": "stdout",
     "output_type": "stream",
     "text": [
      "Initialised with 2 image(s) found.\n",
      "Output directory set to /workspaces/finetune/combined_classes/2999681081/output."
     ]
    },
    {
     "name": "stderr",
     "output_type": "stream",
     "text": [
      "Processing <PIL.Image.Image image mode=RGB size=4032x2268 at 0x7A057D79FAF0>: 100%|██████████| 10/10 [00:03<00:00,  3.24 Samples/s]\n",
      "Processing <PIL.Image.Image image mode=RGB size=4032x2268 at 0x7A057D79FB20>: 100%|██████████| 10/10 [00:03<00:00,  2.96 Samples/s]\n"
     ]
    },
    {
     "name": "stdout",
     "output_type": "stream",
     "text": [
      "Initialised with 2 image(s) found.\n",
      "Output directory set to /workspaces/finetune/combined_classes/2997807110/output."
     ]
    },
    {
     "name": "stderr",
     "output_type": "stream",
     "text": [
      "Processing <PIL.Image.Image image mode=RGB size=4032x2268 at 0x7A057D7F00D0>: 100%|██████████| 10/10 [00:03<00:00,  3.13 Samples/s]\n",
      "Processing <PIL.Image.Image image mode=RGB size=4032x2268 at 0x7A057D7F52D0>: 100%|██████████| 10/10 [00:02<00:00,  3.44 Samples/s]\n"
     ]
    },
    {
     "name": "stdout",
     "output_type": "stream",
     "text": [
      "Initialised with 1 image(s) found.\n",
      "Output directory set to /workspaces/finetune/combined_classes/2999463893/output."
     ]
    },
    {
     "name": "stderr",
     "output_type": "stream",
     "text": [
      "Processing <PIL.Image.Image image mode=RGB size=1600x1200 at 0x7A057C604DC0>: 100%|██████████| 10/10 [00:00<00:00, 14.41 Samples/s]\n"
     ]
    },
    {
     "name": "stdout",
     "output_type": "stream",
     "text": [
      "Initialised with 2 image(s) found.\n",
      "Output directory set to /workspaces/finetune/combined_classes/2998768337/output."
     ]
    },
    {
     "name": "stderr",
     "output_type": "stream",
     "text": [
      "Processing <PIL.Image.Image image mode=RGB size=1600x1200 at 0x7A057D799B70>: 100%|██████████| 10/10 [00:00<00:00, 16.41 Samples/s]\n",
      "Processing <PIL.Image.Image image mode=RGB size=1600x1200 at 0x7A057D79EE60>: 100%|██████████| 10/10 [00:00<00:00, 14.87 Samples/s]\n"
     ]
    },
    {
     "name": "stdout",
     "output_type": "stream",
     "text": [
      "Initialised with 8 image(s) found.\n",
      "Output directory set to /workspaces/finetune/combined_classes/2999664110/output."
     ]
    },
    {
     "name": "stderr",
     "output_type": "stream",
     "text": [
      "Processing <PIL.Image.Image image mode=RGB size=1280x960 at 0x7A057D79EDD0>: 100%|██████████| 10/10 [00:00<00:00, 23.88 Samples/s]\n",
      "Processing <PIL.Image.Image image mode=RGB size=1280x960 at 0x7A057D7F19F0>: 100%|██████████| 10/10 [00:00<00:00, 22.01 Samples/s]\n",
      "Processing <PIL.Image.Image image mode=RGB size=1280x960 at 0x7A057D79B7C0>: 100%|██████████| 10/10 [00:00<00:00, 22.37 Samples/s]\n",
      "Processing <PIL.Image.Image image mode=RGB size=1280x960 at 0x7A057D798850>: 100%|██████████| 10/10 [00:00<00:00, 26.79 Samples/s]\n",
      "Processing <PIL.Image.Image image mode=RGB size=1280x960 at 0x7A057D7F75E0>: 100%|██████████| 10/10 [00:00<00:00, 23.73 Samples/s]\n",
      "Processing <PIL.Image.Image image mode=RGB size=1280x960 at 0x7A057D79DAE0>: 100%|██████████| 10/10 [00:00<00:00, 28.32 Samples/s]\n",
      "Processing <PIL.Image.Image image mode=RGB size=1280x960 at 0x7A057D79FA00>: 100%|██████████| 10/10 [00:00<00:00, 24.50 Samples/s]\n",
      "Processing <PIL.Image.Image image mode=RGB size=1280x960 at 0x7A057D7F7FA0>: 100%|██████████| 10/10 [00:00<00:00, 33.28 Samples/s]\n"
     ]
    },
    {
     "name": "stdout",
     "output_type": "stream",
     "text": [
      "Initialised with 1 image(s) found.\n",
      "Output directory set to /workspaces/finetune/combined_classes/2999875343/output."
     ]
    },
    {
     "name": "stderr",
     "output_type": "stream",
     "text": [
      "Processing <PIL.Image.Image image mode=RGB size=4032x2268 at 0x7A057D7F55D0>: 100%|██████████| 10/10 [00:02<00:00,  3.44 Samples/s]\n"
     ]
    },
    {
     "name": "stdout",
     "output_type": "stream",
     "text": [
      "Initialised with 1 image(s) found.\n",
      "Output directory set to /workspaces/finetune/combined_classes/3001547201/output."
     ]
    },
    {
     "name": "stderr",
     "output_type": "stream",
     "text": [
      "Processing <PIL.Image.Image image mode=RGB size=4032x2268 at 0x7A057D7F3C40>: 100%|██████████| 10/10 [00:02<00:00,  3.53 Samples/s]                 \n"
     ]
    },
    {
     "name": "stdout",
     "output_type": "stream",
     "text": [
      "Initialised with 2 image(s) found.\n",
      "Output directory set to /workspaces/finetune/combined_classes/2997548546/output."
     ]
    },
    {
     "name": "stderr",
     "output_type": "stream",
     "text": [
      "Processing <PIL.Image.Image image mode=RGB size=4032x2268 at 0x7A057D79E0B0>: 100%|██████████| 10/10 [00:02<00:00,  3.71 Samples/s]\n",
      "Processing <PIL.Image.Image image mode=RGB size=4032x2268 at 0x7A057D799ED0>: 100%|██████████| 10/10 [00:02<00:00,  3.43 Samples/s]\n"
     ]
    },
    {
     "name": "stdout",
     "output_type": "stream",
     "text": [
      "Initialised with 1 image(s) found.\n",
      "Output directory set to /workspaces/finetune/combined_classes/3000000006/output."
     ]
    },
    {
     "name": "stderr",
     "output_type": "stream",
     "text": [
      "Processing <PIL.Image.Image image mode=RGB size=1600x1200 at 0x7A057D79CC70>: 100%|██████████| 10/10 [00:00<00:00, 15.84 Samples/s]\n"
     ]
    },
    {
     "name": "stdout",
     "output_type": "stream",
     "text": [
      "Initialised with 1 image(s) found.\n",
      "Output directory set to /workspaces/finetune/combined_classes/3001889804/output."
     ]
    },
    {
     "name": "stderr",
     "output_type": "stream",
     "text": [
      "Processing <PIL.Image.Image image mode=RGB size=1600x1200 at 0x7A057D76E410>: 100%|██████████| 10/10 [00:00<00:00, 14.91 Samples/s]\n"
     ]
    },
    {
     "name": "stdout",
     "output_type": "stream",
     "text": [
      "Initialised with 5 image(s) found.\n",
      "Output directory set to /workspaces/finetune/combined_classes/3001737119/output."
     ]
    },
    {
     "name": "stderr",
     "output_type": "stream",
     "text": [
      "Processing <PIL.Image.Image image mode=RGB size=4032x2268 at 0x7A057D7F2800>: 100%|██████████| 10/10 [00:03<00:00,  3.18 Samples/s]\n",
      "Processing <PIL.Image.Image image mode=RGB size=4032x2268 at 0x7A057D7F6350>: 100%|██████████| 10/10 [00:02<00:00,  3.36 Samples/s]\n",
      "Processing <PIL.Image.Image image mode=RGB size=4032x2268 at 0x7A057D7F45B0>: 100%|██████████| 10/10 [00:02<00:00,  3.50 Samples/s]\n",
      "Processing <PIL.Image.Image image mode=RGB size=4032x2268 at 0x7A057D79DB70>: 100%|██████████| 10/10 [00:02<00:00,  3.60 Samples/s]\n",
      "Processing <PIL.Image.Image image mode=RGB size=4032x2268 at 0x7A057D79C460>: 100%|██████████| 10/10 [00:03<00:00,  3.30 Samples/s]\n"
     ]
    },
    {
     "name": "stdout",
     "output_type": "stream",
     "text": [
      "Initialised with 4 image(s) found.\n",
      "Output directory set to /workspaces/finetune/combined_classes/3001717181/output."
     ]
    },
    {
     "name": "stderr",
     "output_type": "stream",
     "text": [
      "Processing <PIL.Image.Image image mode=RGB size=4032x2268 at 0x7A057D79A860>: 100%|██████████| 10/10 [00:03<00:00,  2.71 Samples/s]\n",
      "Processing <PIL.Image.Image image mode=RGB size=4032x2268 at 0x7A057D79E770>: 100%|██████████| 10/10 [00:02<00:00,  3.44 Samples/s]\n",
      "Processing <PIL.Image.Image image mode=RGB size=4032x2268 at 0x7A057D79D480>: 100%|██████████| 10/10 [00:03<00:00,  2.68 Samples/s]\n",
      "Processing <PIL.Image.Image image mode=RGB size=4032x2268 at 0x7A057D79EB60>: 100%|██████████| 10/10 [00:03<00:00,  3.24 Samples/s]\n"
     ]
    },
    {
     "name": "stdout",
     "output_type": "stream",
     "text": [
      "Initialised with 1 image(s) found.\n",
      "Output directory set to /workspaces/finetune/combined_classes/3000200762/output."
     ]
    },
    {
     "name": "stderr",
     "output_type": "stream",
     "text": [
      "Processing <PIL.Image.Image image mode=RGB size=1600x1200 at 0x7A057D7F0160>: 100%|██████████| 10/10 [00:00<00:00, 15.60 Samples/s]\n"
     ]
    },
    {
     "name": "stdout",
     "output_type": "stream",
     "text": [
      "Initialised with 1 image(s) found.\n",
      "Output directory set to /workspaces/finetune/combined_classes/2999578592/output."
     ]
    },
    {
     "name": "stderr",
     "output_type": "stream",
     "text": [
      "Processing <PIL.Image.Image image mode=RGB size=4032x2268 at 0x7A057D798C70>: 100%|██████████| 10/10 [00:03<00:00,  3.15 Samples/s]\n"
     ]
    },
    {
     "name": "stdout",
     "output_type": "stream",
     "text": [
      "Initialised with 2 image(s) found.\n",
      "Output directory set to /workspaces/finetune/combined_classes/2997196520/output."
     ]
    },
    {
     "name": "stderr",
     "output_type": "stream",
     "text": [
      "Processing <PIL.Image.Image image mode=RGB size=4032x2268 at 0x7A057D79CB20>: 100%|██████████| 10/10 [00:02<00:00,  3.93 Samples/s]\n",
      "Processing <PIL.Image.Image image mode=RGB size=4032x2268 at 0x7A057D79BFA0>: 100%|██████████| 10/10 [00:03<00:00,  3.08 Samples/s]\n"
     ]
    },
    {
     "name": "stdout",
     "output_type": "stream",
     "text": [
      "Initialised with 1 image(s) found.\n",
      "Output directory set to /workspaces/finetune/combined_classes/3001601045/output."
     ]
    },
    {
     "name": "stderr",
     "output_type": "stream",
     "text": [
      "Processing <PIL.Image.Image image mode=RGB size=4032x2268 at 0x7A057D76E410>: 100%|██████████| 10/10 [00:03<00:00,  3.08 Samples/s]\n"
     ]
    },
    {
     "name": "stdout",
     "output_type": "stream",
     "text": [
      "Initialised with 3 image(s) found.\n",
      "Output directory set to /workspaces/finetune/combined_classes/3001577081/output."
     ]
    },
    {
     "name": "stderr",
     "output_type": "stream",
     "text": [
      "Processing <PIL.Image.Image image mode=RGB size=4032x2268 at 0x7A057D7F2080>: 100%|██████████| 10/10 [00:02<00:00,  3.40 Samples/s]\n",
      "Processing <PIL.Image.Image image mode=RGB size=4032x2268 at 0x7A057D7F6FB0>: 100%|██████████| 10/10 [00:02<00:00,  4.42 Samples/s]\n",
      "Processing <PIL.Image.Image image mode=RGB size=4032x2268 at 0x7A057D79FA00>: 100%|██████████| 10/10 [00:03<00:00,  3.08 Samples/s]\n"
     ]
    },
    {
     "name": "stdout",
     "output_type": "stream",
     "text": [
      "Initialised with 2 image(s) found.\n",
      "Output directory set to /workspaces/finetune/combined_classes/2997807113/output."
     ]
    },
    {
     "name": "stderr",
     "output_type": "stream",
     "text": [
      "Processing <PIL.Image.Image image mode=RGB size=4032x2268 at 0x7A057C606590>: 100%|██████████| 10/10 [00:03<00:00,  2.99 Samples/s]\n",
      "Processing <PIL.Image.Image image mode=RGB size=4032x2268 at 0x7A057D79CC70>: 100%|██████████| 10/10 [00:02<00:00,  3.83 Samples/s]\n"
     ]
    },
    {
     "name": "stdout",
     "output_type": "stream",
     "text": [
      "Initialised with 1 image(s) found.\n",
      "Output directory set to /workspaces/finetune/combined_classes/3001048817/output."
     ]
    },
    {
     "name": "stderr",
     "output_type": "stream",
     "text": [
      "Processing <PIL.Image.Image image mode=RGB size=4032x2268 at 0x7A057D79AD10>: 100%|██████████| 10/10 [00:02<00:00,  4.15 Samples/s]\n"
     ]
    },
    {
     "name": "stdout",
     "output_type": "stream",
     "text": [
      "Initialised with 1 image(s) found.\n",
      "Output directory set to /workspaces/finetune/combined_classes/2998599743/output."
     ]
    },
    {
     "name": "stderr",
     "output_type": "stream",
     "text": [
      "Processing <PIL.Image.Image image mode=RGB size=4032x2268 at 0x7A057D79CC10>: 100%|██████████| 10/10 [00:02<00:00,  3.41 Samples/s]\n"
     ]
    },
    {
     "name": "stdout",
     "output_type": "stream",
     "text": [
      "Initialised with 2 image(s) found.\n",
      "Output directory set to /workspaces/finetune/combined_classes/2999556224/output."
     ]
    },
    {
     "name": "stderr",
     "output_type": "stream",
     "text": [
      "Processing <PIL.Image.Image image mode=RGB size=1600x1200 at 0x7A057D79F400>: 100%|██████████| 10/10 [00:00<00:00, 16.76 Samples/s]\n",
      "Processing <PIL.Image.Image image mode=RGB size=1600x1200 at 0x7A057D79ECE0>: 100%|██████████| 10/10 [00:00<00:00, 16.71 Samples/s]\n"
     ]
    },
    {
     "name": "stdout",
     "output_type": "stream",
     "text": [
      "Initialised with 1 image(s) found.\n",
      "Output directory set to /workspaces/finetune/combined_classes/3000000003/output."
     ]
    },
    {
     "name": "stderr",
     "output_type": "stream",
     "text": [
      "Processing <PIL.Image.Image image mode=RGB size=1600x1200 at 0x7A057D79B9D0>: 100%|██████████| 10/10 [00:00<00:00, 15.70 Samples/s]\n"
     ]
    },
    {
     "name": "stdout",
     "output_type": "stream",
     "text": [
      "Initialised with 2 image(s) found.\n",
      "Output directory set to /workspaces/finetune/combined_classes/2997603170/output."
     ]
    },
    {
     "name": "stderr",
     "output_type": "stream",
     "text": [
      "Processing <PIL.Image.Image image mode=RGB size=4032x2268 at 0x7A057D79CB20>: 100%|██████████| 10/10 [00:03<00:00,  3.19 Samples/s]\n",
      "Processing <PIL.Image.Image image mode=RGB size=4032x2268 at 0x7A057D7F3340>: 100%|██████████| 10/10 [00:02<00:00,  3.54 Samples/s]\n"
     ]
    },
    {
     "name": "stdout",
     "output_type": "stream",
     "text": [
      "Initialised with 2 image(s) found.\n",
      "Output directory set to /workspaces/finetune/combined_classes/3001567490/output."
     ]
    },
    {
     "name": "stderr",
     "output_type": "stream",
     "text": [
      "Processing <PIL.Image.Image image mode=RGB size=4032x2268 at 0x7A057D79A110>: 100%|██████████| 10/10 [00:03<00:00,  3.27 Samples/s]\n",
      "Processing <PIL.Image.Image image mode=RGB size=4032x2268 at 0x7A057D79FA00>: 100%|██████████| 10/10 [00:03<00:00,  2.84 Samples/s]\n"
     ]
    },
    {
     "name": "stdout",
     "output_type": "stream",
     "text": [
      "Initialised with 3 image(s) found.\n",
      "Output directory set to /workspaces/finetune/combined_classes/2997891620/output."
     ]
    },
    {
     "name": "stderr",
     "output_type": "stream",
     "text": [
      "Processing <PIL.Image.Image image mode=RGB size=1600x1200 at 0x7A057D7F27D0>: 100%|██████████| 10/10 [00:00<00:00, 16.62 Samples/s]\n",
      "Processing <PIL.Image.Image image mode=RGB size=1600x1200 at 0x7A057D7CD900>: 100%|██████████| 10/10 [00:00<00:00, 12.50 Samples/s]\n",
      "Processing <PIL.Image.Image image mode=RGB size=1600x1200 at 0x7A057D79FA00>: 100%|██████████| 10/10 [00:00<00:00, 18.39 Samples/s]\n"
     ]
    },
    {
     "name": "stdout",
     "output_type": "stream",
     "text": [
      "Initialised with 1 image(s) found.\n",
      "Output directory set to /workspaces/finetune/combined_classes/2999741618/output."
     ]
    },
    {
     "name": "stderr",
     "output_type": "stream",
     "text": [
      "Processing <PIL.Image.Image image mode=RGB size=1600x1200 at 0x7A057D79E4A0>: 100%|██████████| 10/10 [00:00<00:00, 13.80 Samples/s]\n"
     ]
    },
    {
     "name": "stdout",
     "output_type": "stream",
     "text": [
      "Initialised with 1 image(s) found.\n",
      "Output directory set to /workspaces/finetune/combined_classes/2999572427/output."
     ]
    },
    {
     "name": "stderr",
     "output_type": "stream",
     "text": [
      "Processing <PIL.Image.Image image mode=RGB size=4032x2268 at 0x7A057D79DAE0>: 100%|██████████| 10/10 [00:03<00:00,  3.27 Samples/s]\n"
     ]
    },
    {
     "name": "stdout",
     "output_type": "stream",
     "text": [
      "Initialised with 7 image(s) found.\n",
      "Output directory set to /workspaces/finetune/combined_classes/3001209800/output."
     ]
    },
    {
     "name": "stderr",
     "output_type": "stream",
     "text": [
      "Processing <PIL.Image.Image image mode=RGB size=4032x2268 at 0x7A057D79D090>: 100%|██████████| 10/10 [00:02<00:00,  3.63 Samples/s]\n",
      "Processing <PIL.Image.Image image mode=RGB size=4032x2268 at 0x7A057D7F2080>: 100%|██████████| 10/10 [00:02<00:00,  3.78 Samples/s]\n",
      "Processing <PIL.Image.Image image mode=RGB size=4032x2268 at 0x7A057C604AF0>: 100%|██████████| 10/10 [00:02<00:00,  3.34 Samples/s]\n",
      "Processing <PIL.Image.Image image mode=RGB size=4032x2268 at 0x7A057D79EB60>: 100%|██████████| 10/10 [00:02<00:00,  4.00 Samples/s]                 \n",
      "Processing <PIL.Image.Image image mode=RGB size=4032x2268 at 0x7A057D7991B0>: 100%|██████████| 10/10 [00:02<00:00,  3.40 Samples/s]\n",
      "Processing <PIL.Image.Image image mode=RGB size=4032x2268 at 0x7A057D79FA60>: 100%|██████████| 10/10 [00:02<00:00,  3.51 Samples/s]\n",
      "Processing <PIL.Image.Image image mode=RGB size=4032x2268 at 0x7A057D7985E0>: 100%|██████████| 10/10 [00:02<00:00,  3.65 Samples/s]\n"
     ]
    },
    {
     "name": "stdout",
     "output_type": "stream",
     "text": [
      "Initialised with 2 image(s) found.\n",
      "Output directory set to /workspaces/finetune/combined_classes/3001575032/output."
     ]
    },
    {
     "name": "stderr",
     "output_type": "stream",
     "text": [
      "Processing <PIL.Image.Image image mode=RGB size=4032x2268 at 0x7A057D79C6A0>: 100%|██████████| 10/10 [00:02<00:00,  3.34 Samples/s]\n",
      "Processing <PIL.Image.Image image mode=RGB size=4032x2268 at 0x7A057D7CC8E0>: 100%|██████████| 10/10 [00:03<00:00,  3.17 Samples/s]\n"
     ]
    },
    {
     "name": "stdout",
     "output_type": "stream",
     "text": [
      "Initialised with 1 image(s) found.\n",
      "Output directory set to /workspaces/finetune/combined_classes/2999488598/output."
     ]
    },
    {
     "name": "stderr",
     "output_type": "stream",
     "text": [
      "Processing <PIL.Image.Image image mode=RGB size=1600x1200 at 0x7A057D798EE0>: 100%|██████████| 10/10 [00:00<00:00, 15.20 Samples/s]\n"
     ]
    },
    {
     "name": "stdout",
     "output_type": "stream",
     "text": [
      "Initialised with 3 image(s) found.\n",
      "Output directory set to /workspaces/finetune/combined_classes/3000077807/output."
     ]
    },
    {
     "name": "stderr",
     "output_type": "stream",
     "text": [
      "Processing <PIL.Image.Image image mode=RGB size=1600x1200 at 0x7A057D79F9D0>: 100%|██████████| 10/10 [00:00<00:00, 14.10 Samples/s]\n",
      "Processing <PIL.Image.Image image mode=RGB size=1600x1200 at 0x7A057D7F3340>: 100%|██████████| 10/10 [00:00<00:00, 17.21 Samples/s]\n",
      "Processing <PIL.Image.Image image mode=RGB size=1600x1200 at 0x7A057D79BCD0>: 100%|██████████| 10/10 [00:00<00:00, 14.69 Samples/s]\n"
     ]
    },
    {
     "name": "stdout",
     "output_type": "stream",
     "text": [
      "Initialised with 2 image(s) found.\n",
      "Output directory set to /workspaces/finetune/combined_classes/3000077885/output."
     ]
    },
    {
     "name": "stderr",
     "output_type": "stream",
     "text": [
      "Processing <PIL.Image.Image image mode=RGB size=1600x1200 at 0x7A057D79D150>: 100%|██████████| 10/10 [00:00<00:00, 17.08 Samples/s]\n",
      "Processing <PIL.Image.Image image mode=RGB size=1600x1200 at 0x7A057D7F0F70>: 100%|██████████| 10/10 [00:00<00:00, 16.41 Samples/s]\n"
     ]
    },
    {
     "name": "stdout",
     "output_type": "stream",
     "text": [
      "Initialised with 5 image(s) found.\n",
      "Output directory set to /workspaces/finetune/combined_classes/2998790078/output."
     ]
    },
    {
     "name": "stderr",
     "output_type": "stream",
     "text": [
      "Processing <PIL.Image.Image image mode=RGB size=4032x2268 at 0x7A057D79BC40>: 100%|██████████| 10/10 [00:03<00:00,  3.11 Samples/s]\n",
      "Processing <PIL.Image.Image image mode=RGB size=4032x2268 at 0x7A057C6045E0>: 100%|██████████| 10/10 [00:02<00:00,  3.40 Samples/s]\n",
      "Processing <PIL.Image.Image image mode=RGB size=4032x2268 at 0x7A057D799FC0>: 100%|██████████| 10/10 [00:03<00:00,  3.01 Samples/s]\n",
      "Processing <PIL.Image.Image image mode=RGB size=4032x2268 at 0x7A057C605120>: 100%|██████████| 10/10 [00:03<00:00,  3.27 Samples/s]\n",
      "Processing <PIL.Image.Image image mode=RGB size=4032x2268 at 0x7A057D79BFD0>: 100%|██████████| 10/10 [00:03<00:00,  3.11 Samples/s]\n"
     ]
    },
    {
     "name": "stdout",
     "output_type": "stream",
     "text": [
      "Initialised with 3 image(s) found.\n",
      "Output directory set to /workspaces/finetune/combined_classes/3001051637/output."
     ]
    },
    {
     "name": "stderr",
     "output_type": "stream",
     "text": [
      "Processing <PIL.Image.Image image mode=RGB size=1600x1200 at 0x7A057D799330>: 100%|██████████| 10/10 [00:00<00:00, 16.70 Samples/s]\n",
      "Processing <PIL.Image.Image image mode=RGB size=1600x1200 at 0x7A057C607790>: 100%|██████████| 10/10 [00:00<00:00, 17.90 Samples/s]\n",
      "Processing <PIL.Image.Image image mode=RGB size=1600x1200 at 0x7A057D798250>: 100%|██████████| 10/10 [00:00<00:00, 16.91 Samples/s]\n"
     ]
    },
    {
     "name": "stdout",
     "output_type": "stream",
     "text": [
      "Initialised with 2 image(s) found.\n",
      "Output directory set to /workspaces/finetune/combined_classes/3001977482/output."
     ]
    },
    {
     "name": "stderr",
     "output_type": "stream",
     "text": [
      "Processing <PIL.Image.Image image mode=RGB size=1600x1200 at 0x7A057D79EAD0>: 100%|██████████| 10/10 [00:00<00:00, 15.01 Samples/s]\n",
      "Processing <PIL.Image.Image image mode=RGB size=1600x1200 at 0x7A057D79A3E0>: 100%|██████████| 10/10 [00:00<00:00, 14.67 Samples/s]\n"
     ]
    },
    {
     "name": "stdout",
     "output_type": "stream",
     "text": [
      "Initialised with 1 image(s) found.\n",
      "Output directory set to /workspaces/finetune/combined_classes/2999556191/output."
     ]
    },
    {
     "name": "stderr",
     "output_type": "stream",
     "text": [
      "Processing <PIL.Image.Image image mode=RGB size=1600x1200 at 0x7A057D79CF70>: 100%|██████████| 10/10 [00:00<00:00, 15.24 Samples/s]\n"
     ]
    },
    {
     "name": "stdout",
     "output_type": "stream",
     "text": [
      "Initialised with 2 image(s) found.\n",
      "Output directory set to /workspaces/finetune/combined_classes/2998758431/output."
     ]
    },
    {
     "name": "stderr",
     "output_type": "stream",
     "text": [
      "Processing <PIL.Image.Image image mode=RGB size=4032x2268 at 0x7A057C607A60>: 100%|██████████| 10/10 [00:03<00:00,  3.26 Samples/s]\n",
      "Processing <PIL.Image.Image image mode=RGB size=4032x2268 at 0x7A057D7F3580>: 100%|██████████| 10/10 [00:03<00:00,  3.23 Samples/s]\n"
     ]
    },
    {
     "name": "stdout",
     "output_type": "stream",
     "text": [
      "Initialised with 1 image(s) found.\n",
      "Output directory set to /workspaces/finetune/combined_classes/3000000015/output."
     ]
    },
    {
     "name": "stderr",
     "output_type": "stream",
     "text": [
      "Processing <PIL.Image.Image image mode=RGB size=1600x1200 at 0x7A057D79BBE0>: 100%|██████████| 10/10 [00:00<00:00, 16.73 Samples/s]\n"
     ]
    },
    {
     "name": "stdout",
     "output_type": "stream",
     "text": [
      "Initialised with 1 image(s) found.\n",
      "Output directory set to /workspaces/finetune/combined_classes/2997548549/output."
     ]
    },
    {
     "name": "stderr",
     "output_type": "stream",
     "text": [
      "Processing <PIL.Image.Image image mode=RGB size=4032x2268 at 0x7A057C606E30>: 100%|██████████| 10/10 [00:02<00:00,  3.61 Samples/s]\n"
     ]
    },
    {
     "name": "stdout",
     "output_type": "stream",
     "text": [
      "Initialised with 1 image(s) found.\n",
      "Output directory set to /workspaces/finetune/combined_classes/3001717229/output."
     ]
    },
    {
     "name": "stderr",
     "output_type": "stream",
     "text": [
      "Processing <PIL.Image.Image image mode=RGB size=1600x1200 at 0x7A057C6054B0>: 100%|██████████| 10/10 [00:00<00:00, 17.14 Samples/s]\n"
     ]
    },
    {
     "name": "stdout",
     "output_type": "stream",
     "text": [
      "Initialised with 2 image(s) found.\n",
      "Output directory set to /workspaces/finetune/combined_classes/2999741858/output."
     ]
    },
    {
     "name": "stderr",
     "output_type": "stream",
     "text": [
      "Processing <PIL.Image.Image image mode=RGB size=1600x1200 at 0x7A057D79B8B0>: 100%|██████████| 10/10 [00:00<00:00, 18.01 Samples/s]\n",
      "Processing <PIL.Image.Image image mode=RGB size=1600x1200 at 0x7A057D7996F0>: 100%|██████████| 10/10 [00:00<00:00, 17.30 Samples/s]\n"
     ]
    },
    {
     "name": "stdout",
     "output_type": "stream",
     "text": [
      "Initialised with 2 image(s) found.\n",
      "Output directory set to /workspaces/finetune/combined_classes/2999745932/output."
     ]
    },
    {
     "name": "stderr",
     "output_type": "stream",
     "text": [
      "Processing <PIL.Image.Image image mode=RGB size=1600x1200 at 0x7A057C6066E0>: 100%|██████████| 10/10 [00:00<00:00, 17.00 Samples/s]\n",
      "Processing <PIL.Image.Image image mode=RGB size=1600x1200 at 0x7A059029E3B0>: 100%|██████████| 10/10 [00:00<00:00, 18.53 Samples/s]\n"
     ]
    },
    {
     "name": "stdout",
     "output_type": "stream",
     "text": [
      "Initialised with 5 image(s) found.\n",
      "Output directory set to /workspaces/finetune/combined_classes/3001742897/output."
     ]
    },
    {
     "name": "stderr",
     "output_type": "stream",
     "text": [
      "Processing <PIL.Image.Image image mode=RGB size=4032x2268 at 0x7A057D7F4220>: 100%|██████████| 10/10 [00:03<00:00,  3.07 Samples/s]\n",
      "Processing <PIL.Image.Image image mode=RGB size=4032x2268 at 0x7A057D79A530>: 100%|██████████| 10/10 [00:02<00:00,  4.52 Samples/s]\n",
      "Processing <PIL.Image.Image image mode=RGB size=4032x2268 at 0x7A057C604130>: 100%|██████████| 10/10 [00:02<00:00,  4.25 Samples/s]\n",
      "Processing <PIL.Image.Image image mode=RGB size=4032x2268 at 0x7A057D79F400>: 100%|██████████| 10/10 [00:02<00:00,  3.64 Samples/s]\n",
      "Processing <PIL.Image.Image image mode=RGB size=4032x2268 at 0x7A057D7F4220>: 100%|██████████| 10/10 [00:02<00:00,  3.48 Samples/s]\n"
     ]
    },
    {
     "name": "stdout",
     "output_type": "stream",
     "text": [
      "Initialised with 3 image(s) found.\n",
      "Output directory set to /workspaces/finetune/combined_classes/3000113162/output."
     ]
    },
    {
     "name": "stderr",
     "output_type": "stream",
     "text": [
      "Processing <PIL.Image.Image image mode=RGB size=4032x2268 at 0x7A057C607A30>: 100%|██████████| 10/10 [00:03<00:00,  3.32 Samples/s]\n",
      "Processing <PIL.Image.Image image mode=RGB size=4032x2268 at 0x7A057C6072E0>: 100%|██████████| 10/10 [00:03<00:00,  2.78 Samples/s]\n",
      "Processing <PIL.Image.Image image mode=RGB size=4032x2268 at 0x7A057D79BEB0>: 100%|██████████| 10/10 [00:03<00:00,  3.29 Samples/s]\n"
     ]
    }
   ],
   "source": [
    "import Augmentor\n",
    "import os\n",
    "import shutil\n",
    "\n",
    "# Path to the main dataset folder\n",
    "dataset_path = '/workspaces/finetune/combined_classes'\n",
    "\n",
    "# List all class folders\n",
    "class_folders = [os.path.join(dataset_path, class_folder) for class_folder in os.listdir(dataset_path) if os.path.isdir(os.path.join(dataset_path, class_folder))]\n",
    "\n",
    "# Number of augmented images to generate per original image\n",
    "augmentations_per_image = 10\n",
    "\n",
    "# Function to perform augmentations\n",
    "def augment_images(folder_path):\n",
    "    temp_output_folder = os.path.join(folder_path, 'output')\n",
    "    if not os.path.exists(temp_output_folder):\n",
    "        os.makedirs(temp_output_folder)\n",
    "    \n",
    "    p = Augmentor.Pipeline(folder_path, output_directory='output')\n",
    "\n",
    "    # Define augmentation operations\n",
    "    p.rotate(probability=0.7, max_left_rotation=25, max_right_rotation=25)\n",
    "    p.flip_left_right(probability=0.5)\n",
    "    p.flip_top_bottom(probability=0.5)\n",
    "    p.random_brightness(probability=0.5, min_factor=0.7, max_factor=1.3)\n",
    "    p.random_contrast(probability=0.5, min_factor=0.7, max_factor=1.3)\n",
    "    p.zoom_random(probability=0.5, percentage_area=0.95)\n",
    "    p.random_distortion(probability=0.5, grid_width=4, grid_height=4, magnitude=8)\n",
    "\n",
    "    # Generate augmented images\n",
    "    for image_name in os.listdir(folder_path):\n",
    "        if image_name.lower().endswith(('png', 'jpg', 'jpeg')):\n",
    "            p.sample(augmentations_per_image)\n",
    "\n",
    "    # Move augmented images back to the original folder\n",
    "    for augmented_image_name in os.listdir(temp_output_folder):\n",
    "        src_path = os.path.join(temp_output_folder, augmented_image_name)\n",
    "        dest_path = os.path.join(folder_path, augmented_image_name)\n",
    "        shutil.move(src_path, dest_path)\n",
    "\n",
    "    # Remove the temporary output folder\n",
    "    shutil.rmtree(temp_output_folder)\n",
    "\n",
    "# Apply augmentations to each class folder\n",
    "for class_folder in class_folders:\n",
    "    augment_images(class_folder)\n"
   ]
  },
  {
   "cell_type": "code",
   "execution_count": null,
   "metadata": {},
   "outputs": [],
   "source": []
  }
 ],
 "metadata": {
  "kernelspec": {
   "display_name": "finetune-f9B3-yHi-py3.10",
   "language": "python",
   "name": "python3"
  },
  "language_info": {
   "codemirror_mode": {
    "name": "ipython",
    "version": 3
   },
   "file_extension": ".py",
   "mimetype": "text/x-python",
   "name": "python",
   "nbconvert_exporter": "python",
   "pygments_lexer": "ipython3",
   "version": "3.10.13"
  }
 },
 "nbformat": 4,
 "nbformat_minor": 2
}
