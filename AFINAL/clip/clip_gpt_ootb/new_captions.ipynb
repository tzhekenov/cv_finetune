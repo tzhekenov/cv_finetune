{
 "cells": [
  {
   "cell_type": "code",
   "execution_count": 2,
   "metadata": {},
   "outputs": [],
   "source": [
    "import openai\n",
    "import json\n",
    "#you need to add a open ai keyvariable\n",
    "# Function to load data from a JSON file\n",
    "def load_data(filepath):\n",
    "    with open(filepath, 'r') as file:\n",
    "        return json.load(file)\n",
    "\n",
    "# Function to save data to a JSON file\n",
    "def save_data(data, filepath):\n",
    "    with open(filepath, 'w') as file:\n",
    "        json.dump(data, file, indent=4)\n",
    "\n",
    "import openai\n",
    "\n",
    "def summarize_captions(data, api_key):\n",
    "    openai.api_key = api_key\n",
    "    summarized_data = []\n",
    "    for item in data:\n",
    "        try:\n",
    "            response = openai.ChatCompletion.create(\n",
    "                model=\"gpt-4\",\n",
    "                messages=[\n",
    "                    {\n",
    "                        \"role\": \"system\",\n",
    "                        \"content\": \"You are a helpful assistant. Summarize the product description focusing on features like colors, edges, corners, and material in at most 70 characters.\"\n",
    "                    },\n",
    "                    {\n",
    "                        \"role\": \"user\",\n",
    "                        \"content\": item['new_caption']\n",
    "                    }\n",
    "                ],\n",
    "                max_tokens=70,\n",
    "                temperature=0.5,\n",
    "                stop=None\n",
    "            )\n",
    "            summarized_caption = response['choices'][0]['message']['content'].strip()\n",
    "            item['updated_caption'] = summarized_caption[:70]  # Ensure it's at most 70 characters\n",
    "            summarized_data.append(item)\n",
    "        except Exception as e:\n",
    "            print(f\"Failed to generate summary for {item['new_caption']}: {str(e)}\")\n",
    "    return summarized_data\n",
    "\n",
    "\n",
    "# Main function to process the data\n",
    "def process_data(json_filepath, api_key):\n",
    "    data = load_data(json_filepath)\n",
    "    updated_data = summarize_captions(data, api_key)\n",
    "    save_data(updated_data, json_filepath)\n",
    "\n",
    "# Variables\n",
    "json_filepath = '/workspaces/finetune/AFINAL/clip/clip_gpt_ootb/clip_new_caption_embedding.json'\n",
    "\n",
    "# Process the data\n",
    "process_data(json_filepath)\n"
   ]
  },
  {
   "cell_type": "code",
   "execution_count": null,
   "metadata": {},
   "outputs": [],
   "source": []
  }
 ],
 "metadata": {
  "kernelspec": {
   "display_name": "finetune-f9B3-yHi-py3.10",
   "language": "python",
   "name": "python3"
  },
  "language_info": {
   "codemirror_mode": {
    "name": "ipython",
    "version": 3
   },
   "file_extension": ".py",
   "mimetype": "text/x-python",
   "name": "python",
   "nbconvert_exporter": "python",
   "pygments_lexer": "ipython3",
   "version": "3.10.13"
  }
 },
 "nbformat": 4,
 "nbformat_minor": 2
}
