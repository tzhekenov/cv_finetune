{
 "cells": [
  {
   "cell_type": "code",
   "execution_count": null,
   "metadata": {},
   "outputs": [],
   "source": [
    "import torch\n",
    "from CLIP import clip\n",
    "\n",
    "# Load CLIP model\n",
    "model, preprocess = clip.load('ViT-B/32', device='cuda')\n",
    "\n",
    "# Define a function to get image embeddings\n",
    "def get_image_embedding(image):\n",
    "    image = preprocess(image).unsqueeze(0).to(device)  # Preprocess and add batch dimension\n",
    "    with torch.no_grad():\n",
    "        image_features = model.encode_image(image)\n",
    "    return image_features\n"
   ]
  }
 ],
 "metadata": {
  "language_info": {
   "name": "python"
  }
 },
 "nbformat": 4,
 "nbformat_minor": 2
}
