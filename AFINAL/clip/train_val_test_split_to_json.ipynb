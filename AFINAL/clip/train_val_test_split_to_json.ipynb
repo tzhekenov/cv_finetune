{
 "cells": [
  {
   "cell_type": "code",
   "execution_count": 4,
   "metadata": {},
   "outputs": [
    {
     "name": "stdout",
     "output_type": "stream",
     "text": [
      "Data has been split and saved into train, val, and test JSON files with captions.\n"
     ]
    }
   ],
   "source": [
    "import os\n",
    "import json\n",
    "import random\n",
    "\n",
    "# Path to the JSON file\n",
    "json_file_path = '/workspaces/finetune/AFINAL/clip/clip_blip.json'\n",
    "\n",
    "# Function to extract all image paths and captions from the JSON file\n",
    "def extract_image_paths_and_captions_by_class(json_file_path):\n",
    "    class_image_data = {}\n",
    "    if not os.path.exists(json_file_path):\n",
    "        print(f\"JSON file not found at: {json_file_path}\")\n",
    "    else:\n",
    "        with open(json_file_path, 'r') as f:\n",
    "            data = json.load(f)\n",
    "\n",
    "        for record in data:\n",
    "            class_name = record[\"class\"]\n",
    "            caption = record[\"caption\"]\n",
    "            if class_name not in class_image_data:\n",
    "                class_image_data[class_name] = []\n",
    "            for image_path in record[\"image_paths\"]:\n",
    "                class_image_data[class_name].append({\"image_path\": image_path, \"caption\": caption, \"class\": class_name})\n",
    "    return class_image_data\n",
    "\n",
    "# Function to split image paths into train, val, and test sets\n",
    "def split_image_data(class_image_data):\n",
    "    train_data = []\n",
    "    val_data = []\n",
    "    test_data = []\n",
    "\n",
    "    for class_name, image_data in class_image_data.items():\n",
    "        # Shuffle the image data to ensure randomness\n",
    "        random.shuffle(image_data)\n",
    "        \n",
    "        # Calculate split indices\n",
    "        total_images = len(image_data)\n",
    "        train_split = int(0.6 * total_images)\n",
    "        val_split = int(0.2 * total_images)\n",
    "        test_split = total_images - train_split - val_split\n",
    "        \n",
    "        # Split the data\n",
    "        train_data.extend(image_data[:train_split])\n",
    "        val_data.extend(image_data[train_split:train_split + val_split])\n",
    "        test_data.extend(image_data[train_split + val_split:])\n",
    "    \n",
    "    return train_data, val_data, test_data\n",
    "\n",
    "# Extract image paths and captions by class\n",
    "class_image_data = extract_image_paths_and_captions_by_class(json_file_path)\n",
    "\n",
    "# Split image paths and captions into train, val, and test sets\n",
    "train_data, val_data, test_data = split_image_data(class_image_data)\n",
    "\n",
    "# Ensure the output directory exists\n",
    "output_dir = './output/'\n",
    "os.makedirs(output_dir, exist_ok=True)\n",
    "\n",
    "# Save the splits to new JSON files\n",
    "train_json_path = os.path.join(output_dir, 'train_data.json')\n",
    "val_json_path = os.path.join(output_dir, 'val_data.json')\n",
    "test_json_path = os.path.join(output_dir, 'test_data.json')\n",
    "\n",
    "with open(train_json_path, 'w') as f:\n",
    "    json.dump(train_data, f, indent=4)\n",
    "\n",
    "with open(val_json_path, 'w') as f:\n",
    "    json.dump(val_data, f, indent=4)\n",
    "\n",
    "with open(test_json_path, 'w') as f:\n",
    "    json.dump(test_data, f, indent=4)\n",
    "\n",
    "print(\"Data has been split and saved into train, val, and test JSON files with captions.\")\n"
   ]
  },
  {
   "cell_type": "code",
   "execution_count": 5,
   "metadata": {},
   "outputs": [
    {
     "data": {
      "text/plain": [
       "1394"
      ]
     },
     "execution_count": 5,
     "metadata": {},
     "output_type": "execute_result"
    }
   ],
   "source": [
    "import json\n",
    "\n",
    "# Load the JSON data\n",
    "file_path = '/workspaces/finetune/AFINAL/clip/output/test_data.json'\n",
    "\n",
    "with open(file_path, 'r') as file:\n",
    "    data = json.load(file)\n",
    "\n",
    "# Count the number of records\n",
    "num_records = len(data)\n",
    "num_records\n"
   ]
  },
  {
   "cell_type": "code",
   "execution_count": 6,
   "metadata": {},
   "outputs": [
    {
     "data": {
      "text/plain": [
       "1155"
      ]
     },
     "execution_count": 6,
     "metadata": {},
     "output_type": "execute_result"
    }
   ],
   "source": [
    "import json\n",
    "\n",
    "# Load the JSON data\n",
    "file_path = '/workspaces/finetune/AFINAL/clip/output/val_data.json'\n",
    "\n",
    "with open(file_path, 'r') as file:\n",
    "    data = json.load(file)\n",
    "\n",
    "# Count the number of records\n",
    "num_records = len(data)\n",
    "num_records\n"
   ]
  },
  {
   "cell_type": "code",
   "execution_count": 7,
   "metadata": {},
   "outputs": [
    {
     "data": {
      "text/plain": [
       "3589"
      ]
     },
     "execution_count": 7,
     "metadata": {},
     "output_type": "execute_result"
    }
   ],
   "source": [
    "import json\n",
    "\n",
    "# Load the JSON data\n",
    "file_path = '/workspaces/finetune/AFINAL/clip/output/train_data.json'\n",
    "\n",
    "with open(file_path, 'r') as file:\n",
    "    data = json.load(file)\n",
    "\n",
    "# Count the number of records\n",
    "num_records = len(data)\n",
    "num_records\n"
   ]
  },
  {
   "cell_type": "code",
   "execution_count": null,
   "metadata": {},
   "outputs": [],
   "source": []
  }
 ],
 "metadata": {
  "kernelspec": {
   "display_name": "finetune-f9B3-yHi-py3.10",
   "language": "python",
   "name": "python3"
  },
  "language_info": {
   "codemirror_mode": {
    "name": "ipython",
    "version": 3
   },
   "file_extension": ".py",
   "mimetype": "text/x-python",
   "name": "python",
   "nbconvert_exporter": "python",
   "pygments_lexer": "ipython3",
   "version": "3.10.13"
  }
 },
 "nbformat": 4,
 "nbformat_minor": 2
}
