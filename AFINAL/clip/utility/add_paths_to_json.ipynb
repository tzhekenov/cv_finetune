{
 "cells": [
  {
   "cell_type": "code",
   "execution_count": 7,
   "metadata": {},
   "outputs": [
    {
     "name": "stdout",
     "output_type": "stream",
     "text": [
      "Updated JSON data has been saved with transformed image paths.\n"
     ]
    }
   ],
   "source": [
    "import os\n",
    "import json\n",
    "\n",
    "# Path to the JSON file\n",
    "json_file_path = '/workspaces/finetune/AFINAL/clip/clip_blip.json'\n",
    "\n",
    "# Directory where the augmented images are stored\n",
    "augmented_images_dir = \"/workspaces/finetune/AFINAL/clip/combined_classes_augmented\"\n",
    "\n",
    "# Check if the JSON file exists\n",
    "if not os.path.exists(json_file_path):\n",
    "    print(f\"JSON file not found at: {json_file_path}\")\n",
    "    print(\"Contents of the directory:\")\n",
    "    directory = os.path.dirname(json_file_path)\n",
    "    for file in os.listdir(directory):\n",
    "        print(file)\n",
    "else:\n",
    "    # Load the JSON data\n",
    "    with open(json_file_path, 'r') as f:\n",
    "        data = json.load(f)\n",
    "\n",
    "    # Function to get image paths with the same filename but different transformations\n",
    "    def get_transformed_image_paths(image_path, class_name):\n",
    "        base_name = os.path.basename(image_path)\n",
    "        image_name, _ = os.path.splitext(base_name)\n",
    "        \n",
    "        class_dir = os.path.join(augmented_images_dir, class_name)\n",
    "        \n",
    "        transformed_paths = []\n",
    "        \n",
    "        if os.path.isdir(class_dir):\n",
    "            for file in os.listdir(class_dir):\n",
    "                if image_name in file and file != base_name:  # Ensure not to include the original image itself\n",
    "                    transformed_paths.append(os.path.join(class_dir, file))\n",
    "        \n",
    "        return transformed_paths\n",
    "\n",
    "    # Process each record in the JSON\n",
    "    for record in data:\n",
    "        image_path = record[\"image_path\"]\n",
    "        class_name = record[\"class\"]\n",
    "        \n",
    "        # Get transformed image paths\n",
    "        transformed_image_paths = get_transformed_image_paths(image_path, class_name)\n",
    "        \n",
    "        # Add the transformed image paths to the image_paths list\n",
    "        record[\"image_paths\"].extend(transformed_image_paths)\n",
    "\n",
    "    # Save the updated JSON data back to the file\n",
    "    with open(json_file_path, 'w') as f:\n",
    "        json.dump(data, f, indent=4)\n",
    "\n",
    "    print(\"Updated JSON data has been saved with transformed image paths.\")\n",
    "\n"
   ]
  },
  {
   "cell_type": "code",
   "execution_count": 5,
   "metadata": {},
   "outputs": [
    {
     "name": "stdout",
     "output_type": "stream",
     "text": [
      "Updated JSON data has been saved with empty image_paths.\n"
     ]
    }
   ],
   "source": [
    "import os\n",
    "import json\n",
    "\n",
    "# Path to the JSON file\n",
    "json_file_path = '/workspaces/finetune/AFINAL/clip/clip_blip.json'\n",
    "\n",
    "# Load the JSON data\n",
    "if not os.path.exists(json_file_path):\n",
    "    print(f\"JSON file not found at: {json_file_path}\")\n",
    "else:\n",
    "    with open(json_file_path, 'r') as f:\n",
    "        data = json.load(f)\n",
    "\n",
    "    # Process each record in the JSON\n",
    "    for record in data:\n",
    "        # Empty the image_paths list\n",
    "        record[\"image_paths\"] = []\n",
    "\n",
    "    # Save the updated JSON data back to the file\n",
    "    with open(json_file_path, 'w') as f:\n",
    "        json.dump(data, f, indent=4)\n",
    "\n",
    "    print(\"Updated JSON data has been saved with empty image_paths.\")\n",
    "\n"
   ]
  },
  {
   "cell_type": "code",
   "execution_count": 2,
   "metadata": {},
   "outputs": [
    {
     "name": "stdout",
     "output_type": "stream",
     "text": [
      "Updated JSON data has been saved.\n"
     ]
    }
   ],
   "source": [
    "import os\n",
    "import json\n",
    "\n",
    "# Path to the JSON file\n",
    "json_file_path = '/workspaces/finetune/AFINAL/clip/clip_blip.json'\n",
    "\n",
    "# Directory where the augmented images are stored\n",
    "augmented_images_dir = \"/workspaces/finetune/AFINAL/clip/combined_classes_augmented\"\n",
    "\n",
    "# Load the JSON data\n",
    "if not os.path.exists(json_file_path):\n",
    "    print(f\"JSON file not found at: {json_file_path}\")\n",
    "else:\n",
    "    with open(json_file_path, 'r') as f:\n",
    "        data = json.load(f)\n",
    "\n",
    "    # Process each record in the JSON\n",
    "    for record in data:\n",
    "        original_image_path = record[\"image_path\"]\n",
    "        class_name = record[\"class\"]\n",
    "        \n",
    "        # Update the image_path to the new structure\n",
    "        new_image_path = original_image_path.replace(\"/workspaces/finetune/combined_classes/\", f\"{augmented_images_dir}/\")\n",
    "        record[\"image_path\"] = new_image_path\n",
    "\n",
    "        # Function to get image paths with the same filename but different transformations\n",
    "        def get_transformed_image_paths(image_path, class_name):\n",
    "            base_name = os.path.basename(image_path)\n",
    "            image_name, _ = os.path.splitext(base_name)\n",
    "            \n",
    "            class_dir = os.path.join(augmented_images_dir, class_name)\n",
    "            \n",
    "            transformed_paths = []\n",
    "            \n",
    "            if os.path.isdir(class_dir):\n",
    "                for file in os.listdir(class_dir):\n",
    "                    if file.startswith(image_name):\n",
    "                        transformed_paths.append(os.path.join(class_dir, file))\n",
    "            \n",
    "            return transformed_paths\n",
    "\n",
    "        transformed_image_paths = get_transformed_image_paths(new_image_path, class_name)\n",
    "        \n",
    "        record[\"image_paths\"] = transformed_image_paths\n",
    "\n",
    "    # Save the updated JSON data back to the file\n",
    "    with open(json_file_path, 'w') as f:\n",
    "        json.dump(data, f, indent=4)\n",
    "\n",
    "    print(\"Updated JSON data has been saved.\")\n",
    "\n"
   ]
  },
  {
   "cell_type": "code",
   "execution_count": 8,
   "metadata": {},
   "outputs": [
    {
     "name": "stdout",
     "output_type": "stream",
     "text": [
      "Total number of images: 6138\n"
     ]
    }
   ],
   "source": [
    "import os\n",
    "import json\n",
    "\n",
    "# Path to the JSON file\n",
    "json_file_path = '/workspaces/finetune/AFINAL/clip/clip_blip.json'\n",
    "\n",
    "# Check if the JSON file exists\n",
    "if not os.path.exists(json_file_path):\n",
    "    print(f\"JSON file not found at: {json_file_path}\")\n",
    "    parent_directory = os.path.dirname(json_file_path)\n",
    "    if os.path.exists(parent_directory):\n",
    "        print(\"Contents of the directory:\")\n",
    "        for file in os.listdir(parent_directory):\n",
    "            print(file)\n",
    "    else:\n",
    "        print(f\"Directory not found: {parent_directory}\")\n",
    "else:\n",
    "    # Load the JSON data\n",
    "    with open(json_file_path, 'r') as f:\n",
    "        data = json.load(f)\n",
    "\n",
    "    # Initialize a counter for the total number of images\n",
    "    total_images = 0\n",
    "\n",
    "    # Loop over all records and sum the length of the image_paths lists\n",
    "    for record in data:\n",
    "        total_images += len(record[\"image_paths\"])\n",
    "\n",
    "    print(f\"Total number of images: {total_images}\")\n"
   ]
  },
  {
   "cell_type": "code",
   "execution_count": null,
   "metadata": {},
   "outputs": [],
   "source": []
  }
 ],
 "metadata": {
  "kernelspec": {
   "display_name": "finetune-f9B3-yHi-py3.10",
   "language": "python",
   "name": "python3"
  },
  "language_info": {
   "codemirror_mode": {
    "name": "ipython",
    "version": 3
   },
   "file_extension": ".py",
   "mimetype": "text/x-python",
   "name": "python",
   "nbconvert_exporter": "python",
   "pygments_lexer": "ipython3",
   "version": "3.10.13"
  }
 },
 "nbformat": 4,
 "nbformat_minor": 2
}
